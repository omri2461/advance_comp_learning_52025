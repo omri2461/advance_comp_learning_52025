{
  "nbformat": 4,
  "nbformat_minor": 0,
  "metadata": {
    "colab": {
      "provenance": [],
      "toc_visible": true,
      "gpuType": "T4"
    },
    "kernelspec": {
      "name": "python3",
      "display_name": "Python 3"
    },
    "language_info": {
      "name": "python"
    },
    "accelerator": "GPU"
  },
  "cells": [
    {
      "cell_type": "markdown",
      "source": [
        "# PyTorch - Autograd (is what we need.)\n",
        "\n",
        "Advanced Learning 2024\n",
        "\n",
        "\n",
        "\n"
      ],
      "metadata": {
        "id": "sD1TdQ6sIkwb"
      }
    },
    {
      "cell_type": "markdown",
      "source": [],
      "metadata": {
        "id": "6fkKJP76I-Hu"
      }
    },
    {
      "cell_type": "markdown",
      "source": [
        "For SUBMISSION:  \n",
        "  \n",
        "Please upload the complete and executed `ipynb` to your git repository. Verify that all of your output can be viewed directly from github, and provide a link to that git file below.\n",
        "\n",
        "~~~\n",
        "STUDENT ID: 211908942\n",
        "~~~\n",
        "\n",
        "~~~\n",
        "STUDENT GIT LINK: https://github.com/omri2461/advance_comp_learning_52025\n",
        "~~~\n",
        "\n",
        "In Addition, don't forget to add your ID to the files:  \n",
        "`PS1_Part3_Autograd_2024_ID_[211908942].html`  \n",
        "\n"
      ],
      "metadata": {
        "id": "LsLdJV3tzcEb"
      }
    },
    {
      "cell_type": "markdown",
      "source": [
        "This part of the problem-set is divided into 2 sections: (a) a short introduction to PyTorch autograd, and (b) some practice questions.      \n",
        "The practice questions cover calculating the gradients and updating the weights of a statistical model (linear regression), with and without PyTorch autograd."
      ],
      "metadata": {
        "id": "bpGvQkizUkAJ"
      }
    },
    {
      "cell_type": "markdown",
      "source": [
        "##  A Short Intro to PyTorch Autograd"
      ],
      "metadata": {
        "id": "tMu8INSVK6N3"
      }
    },
    {
      "cell_type": "markdown",
      "source": [
        "In PyTorch, autograd, short for automatic differentiation, is a core functionality that empowers you to efficiently calculate gradients during deep learning model training. It acts as a computational engine that automatically tracks the operations performed on your tensors and calculates the gradients of any loss function with respect to the model's learnable parameters.\n",
        "\n",
        "**Why is Autograd Important?**\n",
        "\n",
        "* Gradient Calculation: Deep learning relies heavily on gradient-based optimization algorithms like stochastic gradient descent (SGD). These algorithms adjust the weights and biases (learnable parameters) of your model based on the gradients of the loss function. Autograd automates this process, saving you from manually calculating complex derivatives.\n",
        "* Efficient Backpropagation: Backpropagation is the algorithm at the heart of training deep neural networks. It propagates the error (loss) backward through the network, allowing the model to adjust its parameters in the direction that minimizes the loss. Autograd streamlines this process, making training more efficient."
      ],
      "metadata": {
        "id": "xLMa2IKcIzWC"
      }
    },
    {
      "cell_type": "markdown",
      "source": [
        "**How Does Autograd Work?**\n",
        "\n",
        "* Tracking Operations: When you enable autograd mode (with `torch.autograd.record_grad()`), PyTorch creates a computational graph in the background. This graph tracks all the operations performed on your tensors\n",
        "\n",
        "* Backward Pass: Once you calculate a loss function (which typically depends on the output of your model), you can call the `backward()` method on the loss tensor. This triggers the backward pass through the computational graph.\n",
        "\n",
        "* Gradient Calculation: As the backward pass traverses the graph, autograd computes the gradients of the loss function with respect to each learnable parameter in the network. These gradients indicate how much a specific parameter contributed to the overall loss.\n",
        "\n",
        "* Parameter Update: By utilizing these gradients, optimization algorithms like SGD update the model's learnable parameters in a direction that minimizes the loss function. This iterative process continues until the model converges (achieves a desired level of performance).\n",
        "\n",
        "**Key Points about Autograd:**\n",
        "\n",
        "* Automatic\n",
        "* Only for Learnable Parameters: Autograd tracks gradients only for tensors that have `requires_grad=True`.\n",
        "* Dynamic vs. Static Graphs (Optional): PyTorch offers both dynamic computational graphs (eager execution) and static graphs (graph mode) for model development.\n",
        "\n"
      ],
      "metadata": {
        "id": "H0-iHMFVJ87I"
      }
    },
    {
      "cell_type": "code",
      "source": [
        "import time\n",
        "import numpy as np\n",
        "import pandas as pd\n",
        "import torch\n",
        "import math\n",
        "import matplotlib.pyplot as plt\n",
        "import seaborn as sns\n",
        "from torch.utils.data import DataLoader"
      ],
      "metadata": {
        "id": "yHpXMD96Mo7K"
      },
      "execution_count": null,
      "outputs": []
    },
    {
      "cell_type": "code",
      "source": [
        "\n",
        "device = \"cuda\" if torch.cuda.is_available() else \"cpu\"\n",
        "torch.set_default_device(device)\n",
        "print(f\"Using {device}!\")\n"
      ],
      "metadata": {
        "colab": {
          "base_uri": "https://localhost:8080/"
        },
        "id": "d3FXn1y40muL",
        "outputId": "1a996309-0b22-41d8-d259-543c496f19a0"
      },
      "execution_count": null,
      "outputs": [
        {
          "output_type": "stream",
          "name": "stdout",
          "text": [
            "Using cuda!\n"
          ]
        }
      ]
    },
    {
      "cell_type": "markdown",
      "source": [
        "##  0. Loading data and defining our model and loss"
      ],
      "metadata": {
        "id": "HvKljalBTVy0"
      }
    },
    {
      "cell_type": "markdown",
      "source": [
        "Load the California Housing Market dataset into a panda's DataFrame.  \n",
        "In addition, scale the data (why?)."
      ],
      "metadata": {
        "id": "dTVwaEhqPRC-"
      }
    },
    {
      "cell_type": "code",
      "source": [
        "# Import the dataset.\n",
        "cali_train_path = \"https://download.mlcc.google.com/mledu-datasets/california_housing_train.csv\"\n",
        "train_df = pd.read_csv(filepath_or_buffer=cali_train_path).drop(['longitude','latitude'],axis=1)\n",
        "train_df_norm=(train_df-train_df.mean(axis=0))/train_df.std(axis=0) # column-wise operators\n",
        "# Scale the labels:\n",
        "print(f\"Dataset dimension: {train_df_norm.shape}\")\n",
        "train_df_norm.head()"
      ],
      "metadata": {
        "colab": {
          "base_uri": "https://localhost:8080/",
          "height": 224
        },
        "id": "gEoX5S8uHv_l",
        "outputId": "9028e694-71fe-48d3-f6be-6a7e2052740b"
      },
      "execution_count": null,
      "outputs": [
        {
          "output_type": "stream",
          "name": "stdout",
          "text": [
            "Dataset dimension: (17000, 7)\n"
          ]
        },
        {
          "output_type": "execute_result",
          "data": {
            "text/plain": [
              "   housing_median_age  total_rooms  total_bedrooms  population  households  \\\n",
              "0           -1.079639     1.361655        1.764152   -0.361173   -0.075996   \n",
              "1           -0.761850     2.296540        3.230346   -0.261858   -0.099401   \n",
              "2           -0.920744    -0.882436       -0.866931   -0.955326   -0.999223   \n",
              "3           -1.159087    -0.524171       -0.480216   -0.796769   -0.715753   \n",
              "4           -0.682402    -0.545731       -0.506313   -0.701809   -0.622130   \n",
              "\n",
              "   median_income  median_house_value  \n",
              "0      -1.252506           -1.210522  \n",
              "1      -1.081451           -1.096713  \n",
              "2      -1.170071           -1.048430  \n",
              "3      -0.362590           -1.154480  \n",
              "4      -1.026424           -1.222593  "
            ],
            "text/html": [
              "\n",
              "  <div id=\"df-6eaf6673-0f12-4915-bdf5-1a15b828d19c\" class=\"colab-df-container\">\n",
              "    <div>\n",
              "<style scoped>\n",
              "    .dataframe tbody tr th:only-of-type {\n",
              "        vertical-align: middle;\n",
              "    }\n",
              "\n",
              "    .dataframe tbody tr th {\n",
              "        vertical-align: top;\n",
              "    }\n",
              "\n",
              "    .dataframe thead th {\n",
              "        text-align: right;\n",
              "    }\n",
              "</style>\n",
              "<table border=\"1\" class=\"dataframe\">\n",
              "  <thead>\n",
              "    <tr style=\"text-align: right;\">\n",
              "      <th></th>\n",
              "      <th>housing_median_age</th>\n",
              "      <th>total_rooms</th>\n",
              "      <th>total_bedrooms</th>\n",
              "      <th>population</th>\n",
              "      <th>households</th>\n",
              "      <th>median_income</th>\n",
              "      <th>median_house_value</th>\n",
              "    </tr>\n",
              "  </thead>\n",
              "  <tbody>\n",
              "    <tr>\n",
              "      <th>0</th>\n",
              "      <td>-1.079639</td>\n",
              "      <td>1.361655</td>\n",
              "      <td>1.764152</td>\n",
              "      <td>-0.361173</td>\n",
              "      <td>-0.075996</td>\n",
              "      <td>-1.252506</td>\n",
              "      <td>-1.210522</td>\n",
              "    </tr>\n",
              "    <tr>\n",
              "      <th>1</th>\n",
              "      <td>-0.761850</td>\n",
              "      <td>2.296540</td>\n",
              "      <td>3.230346</td>\n",
              "      <td>-0.261858</td>\n",
              "      <td>-0.099401</td>\n",
              "      <td>-1.081451</td>\n",
              "      <td>-1.096713</td>\n",
              "    </tr>\n",
              "    <tr>\n",
              "      <th>2</th>\n",
              "      <td>-0.920744</td>\n",
              "      <td>-0.882436</td>\n",
              "      <td>-0.866931</td>\n",
              "      <td>-0.955326</td>\n",
              "      <td>-0.999223</td>\n",
              "      <td>-1.170071</td>\n",
              "      <td>-1.048430</td>\n",
              "    </tr>\n",
              "    <tr>\n",
              "      <th>3</th>\n",
              "      <td>-1.159087</td>\n",
              "      <td>-0.524171</td>\n",
              "      <td>-0.480216</td>\n",
              "      <td>-0.796769</td>\n",
              "      <td>-0.715753</td>\n",
              "      <td>-0.362590</td>\n",
              "      <td>-1.154480</td>\n",
              "    </tr>\n",
              "    <tr>\n",
              "      <th>4</th>\n",
              "      <td>-0.682402</td>\n",
              "      <td>-0.545731</td>\n",
              "      <td>-0.506313</td>\n",
              "      <td>-0.701809</td>\n",
              "      <td>-0.622130</td>\n",
              "      <td>-1.026424</td>\n",
              "      <td>-1.222593</td>\n",
              "    </tr>\n",
              "  </tbody>\n",
              "</table>\n",
              "</div>\n",
              "    <div class=\"colab-df-buttons\">\n",
              "\n",
              "  <div class=\"colab-df-container\">\n",
              "    <button class=\"colab-df-convert\" onclick=\"convertToInteractive('df-6eaf6673-0f12-4915-bdf5-1a15b828d19c')\"\n",
              "            title=\"Convert this dataframe to an interactive table.\"\n",
              "            style=\"display:none;\">\n",
              "\n",
              "  <svg xmlns=\"http://www.w3.org/2000/svg\" height=\"24px\" viewBox=\"0 -960 960 960\">\n",
              "    <path d=\"M120-120v-720h720v720H120Zm60-500h600v-160H180v160Zm220 220h160v-160H400v160Zm0 220h160v-160H400v160ZM180-400h160v-160H180v160Zm440 0h160v-160H620v160ZM180-180h160v-160H180v160Zm440 0h160v-160H620v160Z\"/>\n",
              "  </svg>\n",
              "    </button>\n",
              "\n",
              "  <style>\n",
              "    .colab-df-container {\n",
              "      display:flex;\n",
              "      gap: 12px;\n",
              "    }\n",
              "\n",
              "    .colab-df-convert {\n",
              "      background-color: #E8F0FE;\n",
              "      border: none;\n",
              "      border-radius: 50%;\n",
              "      cursor: pointer;\n",
              "      display: none;\n",
              "      fill: #1967D2;\n",
              "      height: 32px;\n",
              "      padding: 0 0 0 0;\n",
              "      width: 32px;\n",
              "    }\n",
              "\n",
              "    .colab-df-convert:hover {\n",
              "      background-color: #E2EBFA;\n",
              "      box-shadow: 0px 1px 2px rgba(60, 64, 67, 0.3), 0px 1px 3px 1px rgba(60, 64, 67, 0.15);\n",
              "      fill: #174EA6;\n",
              "    }\n",
              "\n",
              "    .colab-df-buttons div {\n",
              "      margin-bottom: 4px;\n",
              "    }\n",
              "\n",
              "    [theme=dark] .colab-df-convert {\n",
              "      background-color: #3B4455;\n",
              "      fill: #D2E3FC;\n",
              "    }\n",
              "\n",
              "    [theme=dark] .colab-df-convert:hover {\n",
              "      background-color: #434B5C;\n",
              "      box-shadow: 0px 1px 3px 1px rgba(0, 0, 0, 0.15);\n",
              "      filter: drop-shadow(0px 1px 2px rgba(0, 0, 0, 0.3));\n",
              "      fill: #FFFFFF;\n",
              "    }\n",
              "  </style>\n",
              "\n",
              "    <script>\n",
              "      const buttonEl =\n",
              "        document.querySelector('#df-6eaf6673-0f12-4915-bdf5-1a15b828d19c button.colab-df-convert');\n",
              "      buttonEl.style.display =\n",
              "        google.colab.kernel.accessAllowed ? 'block' : 'none';\n",
              "\n",
              "      async function convertToInteractive(key) {\n",
              "        const element = document.querySelector('#df-6eaf6673-0f12-4915-bdf5-1a15b828d19c');\n",
              "        const dataTable =\n",
              "          await google.colab.kernel.invokeFunction('convertToInteractive',\n",
              "                                                    [key], {});\n",
              "        if (!dataTable) return;\n",
              "\n",
              "        const docLinkHtml = 'Like what you see? Visit the ' +\n",
              "          '<a target=\"_blank\" href=https://colab.research.google.com/notebooks/data_table.ipynb>data table notebook</a>'\n",
              "          + ' to learn more about interactive tables.';\n",
              "        element.innerHTML = '';\n",
              "        dataTable['output_type'] = 'display_data';\n",
              "        await google.colab.output.renderOutput(dataTable, element);\n",
              "        const docLink = document.createElement('div');\n",
              "        docLink.innerHTML = docLinkHtml;\n",
              "        element.appendChild(docLink);\n",
              "      }\n",
              "    </script>\n",
              "  </div>\n",
              "\n",
              "\n",
              "<div id=\"df-740a47be-4f5e-44ff-8ae2-5479b6ba2946\">\n",
              "  <button class=\"colab-df-quickchart\" onclick=\"quickchart('df-740a47be-4f5e-44ff-8ae2-5479b6ba2946')\"\n",
              "            title=\"Suggest charts\"\n",
              "            style=\"display:none;\">\n",
              "\n",
              "<svg xmlns=\"http://www.w3.org/2000/svg\" height=\"24px\"viewBox=\"0 0 24 24\"\n",
              "     width=\"24px\">\n",
              "    <g>\n",
              "        <path d=\"M19 3H5c-1.1 0-2 .9-2 2v14c0 1.1.9 2 2 2h14c1.1 0 2-.9 2-2V5c0-1.1-.9-2-2-2zM9 17H7v-7h2v7zm4 0h-2V7h2v10zm4 0h-2v-4h2v4z\"/>\n",
              "    </g>\n",
              "</svg>\n",
              "  </button>\n",
              "\n",
              "<style>\n",
              "  .colab-df-quickchart {\n",
              "      --bg-color: #E8F0FE;\n",
              "      --fill-color: #1967D2;\n",
              "      --hover-bg-color: #E2EBFA;\n",
              "      --hover-fill-color: #174EA6;\n",
              "      --disabled-fill-color: #AAA;\n",
              "      --disabled-bg-color: #DDD;\n",
              "  }\n",
              "\n",
              "  [theme=dark] .colab-df-quickchart {\n",
              "      --bg-color: #3B4455;\n",
              "      --fill-color: #D2E3FC;\n",
              "      --hover-bg-color: #434B5C;\n",
              "      --hover-fill-color: #FFFFFF;\n",
              "      --disabled-bg-color: #3B4455;\n",
              "      --disabled-fill-color: #666;\n",
              "  }\n",
              "\n",
              "  .colab-df-quickchart {\n",
              "    background-color: var(--bg-color);\n",
              "    border: none;\n",
              "    border-radius: 50%;\n",
              "    cursor: pointer;\n",
              "    display: none;\n",
              "    fill: var(--fill-color);\n",
              "    height: 32px;\n",
              "    padding: 0;\n",
              "    width: 32px;\n",
              "  }\n",
              "\n",
              "  .colab-df-quickchart:hover {\n",
              "    background-color: var(--hover-bg-color);\n",
              "    box-shadow: 0 1px 2px rgba(60, 64, 67, 0.3), 0 1px 3px 1px rgba(60, 64, 67, 0.15);\n",
              "    fill: var(--button-hover-fill-color);\n",
              "  }\n",
              "\n",
              "  .colab-df-quickchart-complete:disabled,\n",
              "  .colab-df-quickchart-complete:disabled:hover {\n",
              "    background-color: var(--disabled-bg-color);\n",
              "    fill: var(--disabled-fill-color);\n",
              "    box-shadow: none;\n",
              "  }\n",
              "\n",
              "  .colab-df-spinner {\n",
              "    border: 2px solid var(--fill-color);\n",
              "    border-color: transparent;\n",
              "    border-bottom-color: var(--fill-color);\n",
              "    animation:\n",
              "      spin 1s steps(1) infinite;\n",
              "  }\n",
              "\n",
              "  @keyframes spin {\n",
              "    0% {\n",
              "      border-color: transparent;\n",
              "      border-bottom-color: var(--fill-color);\n",
              "      border-left-color: var(--fill-color);\n",
              "    }\n",
              "    20% {\n",
              "      border-color: transparent;\n",
              "      border-left-color: var(--fill-color);\n",
              "      border-top-color: var(--fill-color);\n",
              "    }\n",
              "    30% {\n",
              "      border-color: transparent;\n",
              "      border-left-color: var(--fill-color);\n",
              "      border-top-color: var(--fill-color);\n",
              "      border-right-color: var(--fill-color);\n",
              "    }\n",
              "    40% {\n",
              "      border-color: transparent;\n",
              "      border-right-color: var(--fill-color);\n",
              "      border-top-color: var(--fill-color);\n",
              "    }\n",
              "    60% {\n",
              "      border-color: transparent;\n",
              "      border-right-color: var(--fill-color);\n",
              "    }\n",
              "    80% {\n",
              "      border-color: transparent;\n",
              "      border-right-color: var(--fill-color);\n",
              "      border-bottom-color: var(--fill-color);\n",
              "    }\n",
              "    90% {\n",
              "      border-color: transparent;\n",
              "      border-bottom-color: var(--fill-color);\n",
              "    }\n",
              "  }\n",
              "</style>\n",
              "\n",
              "  <script>\n",
              "    async function quickchart(key) {\n",
              "      const quickchartButtonEl =\n",
              "        document.querySelector('#' + key + ' button');\n",
              "      quickchartButtonEl.disabled = true;  // To prevent multiple clicks.\n",
              "      quickchartButtonEl.classList.add('colab-df-spinner');\n",
              "      try {\n",
              "        const charts = await google.colab.kernel.invokeFunction(\n",
              "            'suggestCharts', [key], {});\n",
              "      } catch (error) {\n",
              "        console.error('Error during call to suggestCharts:', error);\n",
              "      }\n",
              "      quickchartButtonEl.classList.remove('colab-df-spinner');\n",
              "      quickchartButtonEl.classList.add('colab-df-quickchart-complete');\n",
              "    }\n",
              "    (() => {\n",
              "      let quickchartButtonEl =\n",
              "        document.querySelector('#df-740a47be-4f5e-44ff-8ae2-5479b6ba2946 button');\n",
              "      quickchartButtonEl.style.display =\n",
              "        google.colab.kernel.accessAllowed ? 'block' : 'none';\n",
              "    })();\n",
              "  </script>\n",
              "</div>\n",
              "\n",
              "    </div>\n",
              "  </div>\n"
            ],
            "application/vnd.google.colaboratory.intrinsic+json": {
              "type": "dataframe",
              "variable_name": "train_df_norm",
              "summary": "{\n  \"name\": \"train_df_norm\",\n  \"rows\": 17000,\n  \"fields\": [\n    {\n      \"column\": \"housing_median_age\",\n      \"properties\": {\n        \"dtype\": \"number\",\n        \"std\": 1.0000000000000047,\n        \"min\": -2.191903636395038,\n        \"max\": 1.8599161251807146,\n        \"num_unique_values\": 52,\n        \"samples\": [\n          -0.44405981767608593,\n          1.8599161251807146,\n          1.4626788936536799\n        ],\n        \"semantic_type\": \"\",\n        \"description\": \"\"\n      }\n    },\n    {\n      \"column\": \"total_rooms\",\n      \"properties\": {\n        \"dtype\": \"number\",\n        \"std\": 1.0000000000000009,\n        \"min\": -1.211802087471894,\n        \"max\": 16.189996560198587,\n        \"num_unique_values\": 5533,\n        \"samples\": [\n          0.42218253841455,\n          1.9777248928168325,\n          1.2877998851432753\n        ],\n        \"semantic_type\": \"\",\n        \"description\": \"\"\n      }\n    },\n    {\n      \"column\": \"total_bedrooms\",\n      \"properties\": {\n        \"dtype\": \"number\",\n        \"std\": 1.0000000000000009,\n        \"min\": -1.2773701638551112,\n        \"max\": 14.010905955714168,\n        \"num_unique_values\": 1848,\n        \"samples\": [\n          0.44979697069585656,\n          0.4260721474190575,\n          3.6431581837530027\n        ],\n        \"semantic_type\": \"\",\n        \"description\": \"\"\n      }\n    },\n    {\n      \"column\": \"population\",\n      \"properties\": {\n        \"dtype\": \"number\",\n        \"std\": 1.0000000000000029,\n        \"min\": -1.2428194132295736,\n        \"max\": 29.840430157451234,\n        \"num_unique_values\": 3683,\n        \"samples\": [\n          -1.0285062487802483,\n          0.26608465516974145,\n          -1.040702932935901\n        ],\n        \"semantic_type\": \"\",\n        \"description\": \"\"\n      }\n    },\n    {\n      \"column\": \"households\",\n      \"properties\": {\n        \"dtype\": \"number\",\n        \"std\": 0.9999999999999959,\n        \"min\": -1.3008968254179223,\n        \"max\": 14.51359059342881,\n        \"num_unique_values\": 1740,\n        \"samples\": [\n          -0.2892481482379552,\n          1.5285987035584379,\n          2.2099661930729657\n        ],\n        \"semantic_type\": \"\",\n        \"description\": \"\"\n      }\n    },\n    {\n      \"column\": \"median_income\",\n      \"properties\": {\n        \"dtype\": \"number\",\n        \"std\": 1.000000000000005,\n        \"min\": -1.7732707287944638,\n        \"max\": 5.82579143425984,\n        \"num_unique_values\": 11175,\n        \"samples\": [\n          1.7723503640428904,\n          0.9148735353653924,\n          0.17955649691202696\n        ],\n        \"semantic_type\": \"\",\n        \"description\": \"\"\n      }\n    },\n    {\n      \"column\": \"median_house_value\",\n      \"properties\": {\n        \"dtype\": \"number\",\n        \"std\": 0.9999999999999987,\n        \"min\": -1.6580071647868375,\n        \"max\": 2.5236298303776925,\n        \"num_unique_values\": 3694,\n        \"samples\": [\n          -0.387993203968675,\n          1.2027466808315026,\n          -0.7811516795615644\n        ],\n        \"semantic_type\": \"\",\n        \"description\": \"\"\n      }\n    }\n  ]\n}"
            }
          },
          "metadata": {},
          "execution_count": 3
        }
      ]
    },
    {
      "cell_type": "markdown",
      "source": [
        "We define a linear model to fit the scaled median house value to our data:  \n",
        "\n",
        "**Our model :**.    \n",
        "\n",
        " $$\\text{median_house_value}_i=y_i = \\beta_0+\\beta_1\\text{housing_median_age}_i+ \\beta_2\\text{total_rooms}_i+ \\beta_3\\text{total_bedrooms}_i+ \\beta_4\\text{population}_i+ \\beta_5\\text{households}_i+ \\beta_6\\text{median_income}_i $$\n",
        "\n",
        "**Our loss :**  \n",
        "$$\n",
        "L_i(y_i,\\hat{y}_i) = MSE(y_i,\\hat{y}_i)\n",
        "$$\n"
      ],
      "metadata": {
        "id": "bVaPDR7AQomq"
      }
    },
    {
      "cell_type": "markdown",
      "source": [
        "## 1.  Manually Calculating the Gradients and Updating the Weights\n",
        "\n"
      ],
      "metadata": {
        "id": "Ohg3pW3pKbPH"
      }
    },
    {
      "cell_type": "markdown",
      "source": [
        "Here we take a step back, and implement forward and backward propagation manually (so we can fully appreciate the autograd later...)."
      ],
      "metadata": {
        "id": "OnZq3CEPG4_K"
      }
    },
    {
      "cell_type": "markdown",
      "source": [
        "First, create numpy arrays for our data (X) and target (Y):"
      ],
      "metadata": {
        "id": "Zlpam3w2QY8w"
      }
    },
    {
      "cell_type": "code",
      "source": [
        "X = train_df_norm.drop(['median_house_value'],axis=1).to_numpy()\n",
        "X =  np.c_[  np.ones(X.shape[0]), X ] # adding a column of \"1\"s for intercept\n",
        "Y = train_df_norm['median_house_value']\n",
        "\n",
        "print(f\"X dimension: {X.shape}\")\n",
        "print(f\"Y dimension: {Y.shape}\")"
      ],
      "metadata": {
        "colab": {
          "base_uri": "https://localhost:8080/"
        },
        "id": "S-7cJRcPaMoh",
        "outputId": "bd0d8358-24e1-44b3-cdc0-4c79d3c699a1"
      },
      "execution_count": null,
      "outputs": [
        {
          "output_type": "stream",
          "name": "stdout",
          "text": [
            "X dimension: (17000, 7)\n",
            "Y dimension: (17000,)\n"
          ]
        }
      ]
    },
    {
      "cell_type": "markdown",
      "source": [
        "### 1.1 Calculating the weights analytically (15pts)\n",
        "Apply linear algebra operations to `X` and `Y` to analytically solve the linear regression problem (solve for `W`).   \n",
        "Please use only numpy. Round the weights to 3 decimal places.  "
      ],
      "metadata": {
        "id": "7ZbiF4BCVoTh"
      }
    },
    {
      "cell_type": "code",
      "source": [
        "#### SOLUTION REQUIRED ####\n",
        "t1 = time.time()\n",
        "weights_rounded = np.linalg.inv(X.T @ X) @ X.T @ Y\n",
        "print(f\"Total process time: {round(time.time() - t1,3)}\")\n",
        "print(f\"The estimated weights using the analytic solution:\\n {weights_rounded.round(3)}\")"
      ],
      "metadata": {
        "id": "1axJ1nXAWNPB",
        "colab": {
          "base_uri": "https://localhost:8080/"
        },
        "outputId": "5f2ab5fc-a247-44a9-d90e-1c4e5f1e8aa2"
      },
      "execution_count": null,
      "outputs": [
        {
          "output_type": "stream",
          "name": "stdout",
          "text": [
            "Total process time: 0.022\n",
            "The estimated weights using the analytic solution:\n",
            " [ 0.     0.204 -0.375  0.362 -0.347  0.422  0.79 ]\n"
          ]
        }
      ]
    },
    {
      "cell_type": "markdown",
      "source": [
        "Visualizing the errors:"
      ],
      "metadata": {
        "id": "5CJITEi2jsY2"
      }
    },
    {
      "cell_type": "code",
      "source": [
        "# Plot the errors and density (sanity check):\n",
        "fig, (ax1,ax2) = plt.subplots(nrows=1, ncols=2,figsize=(10,4))\n",
        "error = (np.matmul( X, weights_rounded)-Y)\n",
        "ax1.scatter(range(Y.shape[0]), error ,s=0.05,alpha=0.7)\n",
        "ax1.set_title(\"The error of the predictions from the truth \")\n",
        "sns.kdeplot(error,ax=ax2)\n",
        "ax2.set_title(\"The density of the error\")\n",
        "fig.show()\n"
      ],
      "metadata": {
        "id": "NjV70_FqbfwL",
        "colab": {
          "base_uri": "https://localhost:8080/",
          "height": 410
        },
        "outputId": "dfea8e41-a516-4d01-a245-f1c3fddac744"
      },
      "execution_count": null,
      "outputs": [
        {
          "output_type": "display_data",
          "data": {
            "text/plain": [
              "<Figure size 1000x400 with 2 Axes>"
            ],
            "image/png": "[encoded data removed]"
          },
          "metadata": {}
        }
      ]
    },
    {
      "cell_type": "markdown",
      "source": [
        "### 1.2 Calculating the weights using numpy and gradient descent (30pts)"
      ],
      "metadata": {
        "id": "f7ui5id-YOy1"
      }
    },
    {
      "cell_type": "markdown",
      "source": [
        "Now you are ready to implement an algorithm that iteratively calculates the weights using numpy and gradient descent.\n",
        "\n",
        "Please fill in your code in the `### YOUR CODE HERE` sections in the code block below.   \n",
        "Please don't change the other parts of the code (unless specified).  \n",
        "\n",
        "An epoch in machine learning means one complete pass of the training dataset through the algorithm.   \n",
        "\n",
        "While developing your code, you may reduce the number of epochs.   \n",
        "However, for final output please use the pre-defined epochs number.      \n",
        "\n"
      ],
      "metadata": {
        "id": "b64HQDd5vfii"
      }
    },
    {
      "cell_type": "code",
      "source": [
        "#### SOLUTION REQUIRED ####\n",
        "\n",
        "t2 = time.time()\n",
        "\n",
        "# Randomly initialize weights using numpy\n",
        "b0 = np.random.randn()\n",
        "b1 = np.random.randn()\n",
        "b2 = np.random.randn()\n",
        "b3 = np.random.randn()\n",
        "b4 = np.random.randn()\n",
        "b5 = np.random.randn()\n",
        "b6 = np.random.randn()\n",
        "\n",
        "# Set learning rate\n",
        "learning_rate = 1e-4\n",
        "\n",
        "# Set number of epochs:\n",
        "epochs = int(5e3)\n",
        "\n",
        "N = len(Y)\n",
        "for t in range(epochs):\n",
        "    # Forward pass: compute predicted y\n",
        "    Y_pred = b0*X[:,0] + b1*X[:,1] + b2*X[:,2] + b3*X[:,3] + b4*X[:,4] + b5*X[:,5] + b6*X[:,6]\n",
        "\n",
        "    # Compute and print loss (MSE)\n",
        "    loss = ((Y_pred - Y)**2).mean()\n",
        "    if t % 1000 == 0:\n",
        "        print(f\"Epoch:{t}, loss:{loss}\")\n",
        "\n",
        "    # Backprop to compute gradients\n",
        "    grad_y_pred = 2*(Y_pred - Y)/N\n",
        "    grad_b0 = (grad_y_pred * X[:,0]).sum()\n",
        "    grad_b1 = (grad_y_pred * X[:,1]).sum()\n",
        "    grad_b2 = (grad_y_pred * X[:,2]).sum()\n",
        "    grad_b3 = (grad_y_pred * X[:,3]).sum()\n",
        "    grad_b4 = (grad_y_pred * X[:,4]).sum()\n",
        "    grad_b5 = (grad_y_pred * X[:,5]).sum()\n",
        "    grad_b6 = (grad_y_pred * X[:,6]).sum()\n",
        "\n",
        "    # Update weights\n",
        "    b0 -= learning_rate * grad_b0\n",
        "    b1 -= learning_rate * grad_b1\n",
        "    b2 -= learning_rate * grad_b2\n",
        "    b3 -= learning_rate * grad_b3\n",
        "    b4 -= learning_rate * grad_b4\n",
        "    b5 -= learning_rate * grad_b5\n",
        "    b6 -= learning_rate * grad_b6\n",
        "\n",
        "print(f\"Result: y_hat = {b0} x0 + {b1} x1 + {b2} x2 + {b3} x3\\n + {b4} x4 + {b5} x5 + {b6} x6 \\n\")\n",
        "print(f\"Total process time: {round(time.time() - t2,3)}\")\n",
        "\n",
        "weights_gd_rounded = np.array([b0,b1,b2,b3,b4,b5,b6])\n",
        "print(f\"The estimated weights using the gradient descent solution:\\n {weights_gd_rounded.round(3)}\")"
      ],
      "metadata": {
        "id": "ciPD0RXnQih0",
        "colab": {
          "base_uri": "https://localhost:8080/"
        },
        "outputId": "b0fa3b3c-ce50-4b49-e750-eb95b126d6dd"
      },
      "execution_count": null,
      "outputs": [
        {
          "output_type": "stream",
          "name": "stdout",
          "text": [
            "Epoch:0, loss:13.54492387451377\n",
            "Epoch:1000, loss:4.104803263803537\n",
            "Epoch:2000, loss:1.901867114530648\n",
            "Epoch:3000, loss:1.2877775395133575\n",
            "Epoch:4000, loss:1.0513667190984546\n",
            "Result: y_hat = 0.15485786876703464 x0 + -0.10783394856680004 x1 + -0.6419600704389062 x2 + -0.7820761554685387 x3\n",
            " + 0.6825435923629133 x4 + 0.6596418372350128 x5 + 0.44564395900730697 x6 \n",
            "\n",
            "Total process time: 13.646\n",
            "The estimated weights using the gradient descent solution:\n",
            " [ 0.155 -0.108 -0.642 -0.782  0.683  0.66   0.446]\n"
          ]
        }
      ]
    },
    {
      "cell_type": "markdown",
      "source": [
        "### 1.3 Calculating the weights using PyTorch Tensors and gradient descent (25pts)"
      ],
      "metadata": {
        "id": "QqDJ3haFfRc5"
      }
    },
    {
      "cell_type": "markdown",
      "source": [
        "Here you are asked to implement the same manual gradient algorithm as above.  \n",
        "However, this time please use PyTorch tensors and operators (instead of numpy).  "
      ],
      "metadata": {
        "id": "oA46IpDHhhtp"
      }
    },
    {
      "cell_type": "code",
      "source": [
        "#### SOLUTION REQUIRED ####\n",
        "\n",
        "# Creating data and target tensors:\n",
        "tX = torch.tensor(X)\n",
        "tY = torch.tensor(Y)\n",
        "\n",
        "t3 = time.time()\n",
        "\n",
        "# Randomly initialize weights using PyTorch\n",
        "tb0 = torch.randn((), requires_grad=False)\n",
        "tb1 = torch.randn((), requires_grad=False)\n",
        "tb2 = torch.randn((), requires_grad=False)\n",
        "tb3 = torch.randn((), requires_grad=False)\n",
        "tb4 = torch.randn((), requires_grad=False)\n",
        "tb5 = torch.randn((), requires_grad=False)\n",
        "tb6 = torch.randn((), requires_grad=False)\n",
        "\n",
        "learning_rate = 1e-4\n",
        "epochs = int(5e3)\n",
        "N = len(tY)\n",
        "for t in range(epochs):\n",
        "    # Forward pass\n",
        "    tY_pred = tb0*tX[:,0] + tb1*tX[:,1] + tb2*tX[:,2] + tb3*tX[:,3] + tb4*tX[:,4] + tb5*tX[:,5] + tb6*tX[:,6]\n",
        "    loss = ((tY_pred - tY)**2).mean()\n",
        "    if t % 1000 == 0:\n",
        "        print(f\"epoch:{t}, loss:{loss}\")\n",
        "\n",
        "    # Compute gradients\n",
        "    grad_y_pred = (2*(tY_pred - tY)/N)\n",
        "    grad_b0 = (grad_y_pred * tX[:,0]).sum()\n",
        "    grad_b1 = (grad_y_pred * tX[:,1]).sum()\n",
        "    grad_b2 = (grad_y_pred * tX[:,2]).sum()\n",
        "    grad_b3 = (grad_y_pred * tX[:,3]).sum()\n",
        "    grad_b4 = (grad_y_pred * tX[:,4]).sum()\n",
        "    grad_b5 = (grad_y_pred * tX[:,5]).sum()\n",
        "    grad_b6 = (grad_y_pred * tX[:,6]).sum()\n",
        "\n",
        "    # Update weights\n",
        "    tb0 = tb0 - learning_rate * grad_b0\n",
        "    tb1 = tb1 - learning_rate * grad_b1\n",
        "    tb2 = tb2 - learning_rate * grad_b2\n",
        "    tb3 = tb3 - learning_rate * grad_b3\n",
        "    tb4 = tb4 - learning_rate * grad_b4\n",
        "    tb5 = tb5 - learning_rate * grad_b5\n",
        "    tb6 = tb6 - learning_rate * grad_b6\n",
        "\n",
        "print(f\"Result: y_hat = {tb0} x0 + {tb1} x1 + {tb2} x2 + {tb3} x3\\n + {tb4} x4 + {tb5} x5 + {tb6} x6 \\n\")\n",
        "print(f\"Total process time: {round(time.time() - t3,3)}\")\n",
        "\n",
        "weights_gd_tensors_rounded = np.array([tb0.item(),tb1.item(),tb2.item(),tb3.item(),\n",
        "                                       tb4.item(),tb5.item(),tb6.item()])\n",
        "print(f\"The estimated weights using the gradient descent on tensors:\\n {weights_gd_tensors_rounded.round(3)}\")"
      ],
      "metadata": {
        "id": "8OzIvT-4grTG",
        "colab": {
          "base_uri": "https://localhost:8080/"
        },
        "outputId": "41b89ed7-7eb9-44fc-e2d5-6ca53da0bae5"
      },
      "execution_count": null,
      "outputs": [
        {
          "output_type": "stream",
          "name": "stdout",
          "text": [
            "epoch:0, loss:4.431246622078523\n",
            "epoch:1000, loss:3.0587891509852154\n",
            "epoch:2000, loss:2.2426053717996255\n",
            "epoch:3000, loss:1.7064691551448687\n",
            "epoch:4000, loss:1.3412070415827038\n",
            "Result: y_hat = 0.5445552992867423 x0 + -0.3117386786701223 x1 + -0.05524541032750257 x2 + -0.4623287820155697 x3\n",
            " + 0.18218388945293648 x4 + 0.2305994677834232 x5 + 0.5080013226788865 x6 \n",
            "\n",
            "Total process time: 4.344\n",
            "The estimated weights using the gradient descent on tensors:\n",
            " [ 0.545 -0.312 -0.055 -0.462  0.182  0.231  0.508]\n"
          ]
        }
      ]
    },
    {
      "cell_type": "markdown",
      "source": [
        "### 1.4 Calculating the weights using PyTorch Autograd! (15pts)"
      ],
      "metadata": {
        "id": "tn3kGGIb0LQT"
      }
    },
    {
      "cell_type": "markdown",
      "source": [
        "Lastly, you can finally make a full transition to PyTorch autograd framework.   \n",
        "Please replace your manual gradient calculations with PyTorch's automatic gradient tracking.   \n",
        "In addition, instead of declaring the parameters separately, we will use one tensor to represent all of the model's parameters.  "
      ],
      "metadata": {
        "id": "oSN0J3UriRwA"
      }
    },
    {
      "cell_type": "code",
      "source": [
        "# FILL IN THE MISSING CODE\n",
        "\n",
        "t4 = time.time()\n",
        "\n",
        "# Initialize a single parameter vector (7 parameters) with requires_grad=True\n",
        "tb = torch.randn(7, dtype=torch.double, requires_grad=True)\n",
        "\n",
        "learning_rate = 1e-4\n",
        "epochs = int(5e3)\n",
        "\n",
        "for t in range(epochs):\n",
        "    # Forward pass\n",
        "    tY_pred = tX @ tb\n",
        "    loss = ((tY - tY_pred)**2).mean()\n",
        "    if t % 1000 == 0:\n",
        "        print(f\"epoch:{t}, loss:{loss.item()}\")\n",
        "\n",
        "    # Backward pass\n",
        "    loss.backward()\n",
        "\n",
        "    with torch.no_grad():\n",
        "        tb -= learning_rate * tb.grad\n",
        "        tb.grad = None\n",
        "\n",
        "print(f\"Result: betas = {tb} \\n\")\n",
        "print(f\"Total process time: {round(time.time() - t4,3)}\")\n",
        "\n",
        "weights_autograd_rounded = tb.cpu().detach().numpy()\n",
        "print(f\"The estimated weights using the pytorch autograd:\\n {weights_autograd_rounded.round(3)}\")"
      ],
      "metadata": {
        "id": "nF_vyqlO1Ya7",
        "colab": {
          "base_uri": "https://localhost:8080/"
        },
        "outputId": "bf369880-c54d-46e7-d172-5ec2a2dcc849"
      },
      "execution_count": null,
      "outputs": [
        {
          "output_type": "stream",
          "name": "stdout",
          "text": [
            "epoch:0, loss:2.511006173603638\n",
            "epoch:1000, loss:1.8768130869254271\n",
            "epoch:2000, loss:1.4562001849819564\n",
            "epoch:3000, loss:1.1683005147606331\n",
            "epoch:4000, loss:0.9688609581544813\n",
            "Result: betas = tensor([-0.3547, -0.2954, -0.7815, -0.7216, -0.1502,  1.4929,  0.7503],\n",
            "       device='cuda:0', dtype=torch.float64, requires_grad=True) \n",
            "\n",
            "Total process time: 3.703\n",
            "The estimated weights using the pytorch autograd:\n",
            " [-0.355 -0.295 -0.782 -0.722 -0.15   1.493  0.75 ]\n"
          ]
        }
      ]
    },
    {
      "cell_type": "markdown",
      "source": [
        "### 1.5 Conclusion (15pts)"
      ],
      "metadata": {
        "id": "vVruKYunlbNJ"
      }
    },
    {
      "cell_type": "markdown",
      "source": [
        "1. Which method is the most accurate in finding the \"true\" weights? Why? Is it always applicable?\n",
        "\n",
        "2. Why did we scale the data?\n",
        "   \n",
        "3. Do you think our model specification produced good results?\n",
        "\n",
        "4. What can you say about the total process times between methods?\n",
        "\n",
        "5. Can you suggest some improvements to the model definition?\n",
        "\n",
        "6. Can you suggest some improvements to the solution algorithm?\n",
        "\n"
      ],
      "metadata": {
        "id": "teXbcts-lelv"
      }
    },
    {
      "cell_type": "code",
      "source": [],
      "metadata": {
        "id": "eYt8RAVYW-kP"
      },
      "execution_count": null,
      "outputs": []
    },
    {
      "cell_type": "markdown",
      "source": [
        "YOUR ANSWERS HERE\n",
        "\n",
        "1. **Answer:** The analytic solution via the normal equation `(X^T X)^{-1} X^T Y` typically gives the most accurate and exact solution for linear regression under standard assumptions. It's the closed-form solution and doesn't rely on iterative approximation. However, it's not always applicable or efficient for very large datasets due to the computational cost of matrix inversion (and potential numerical instability). In large-scale problems, iterative methods (like gradient descent) are often preferred.\n",
        "2. **Answer:** Scaling the data ensures that all features are on a similar scale, which helps gradient-based optimization methods converge faster and more reliably. Without scaling, some features might dominate the gradient, leading to slow convergence or poor numerical stability.\n",
        "3. **Answer:** Our model is a simple linear model with no interactions or nonlinearities. Real-world housing prices are influenced by complex relationships, so a simple linear regression might not capture these complexities well. The model may not produce \"great\" results, but as a baseline, it's useful.\n",
        "4. **Answer:** The analytic solution can be very fast for small to moderate datasets but can become expensive for very large ones due to the matrix inversion. Gradient-based methods are typically slower per iteration but can handle large datasets and high-dimensional problems more efficiently. Autograd-based methods have overhead due to graph building but are essential for deep learning.\n",
        "5. **Answer:** We could add nonlinear transformations of features, interaction terms, or use a more flexible model (e.g., neural networks or tree-based methods). Regularization (like Ridge or Lasso) could also improve the model's generalization.\n",
        "6. **Answer:** For gradient-based methods, we could use more sophisticated optimizers like Adam or RMSProp. We could also implement mini-batch gradient descent and early stopping. For the analytic solution, if the dataset is huge, approximate methods or iterative solvers (like conjugate gradient) could be used instead of direct matrix inversion.\n"
      ],
      "metadata": {
        "id": "8x3MTup5lt9B"
      }
    },
    {
      "cell_type": "markdown",
      "source": [
        "PART 2: Coming soon..."
      ],
      "metadata": {
        "id": "GVoUSVc2pCxM"
      }
    }
  ]
}