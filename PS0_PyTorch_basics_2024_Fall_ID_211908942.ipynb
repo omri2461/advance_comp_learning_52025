{
  "cells": [
    {
      "cell_type": "markdown",
      "metadata": {
        "id": "n3aXk1o_qRLu"
      },
      "source": [
        "# PyTorch - the Basics!\n",
        "\n",
        "Advanced Learning 2024\n",
        "\n",
        "Omri Ben Avraham\n"
      ]
    },
    {
      "cell_type": "markdown",
      "metadata": {
        "id": "O88JcDDEeVKl"
      },
      "source": [
        "For SUBMISSION:\n",
        "~~~\n",
        "STUDENT ID: 211908942\n",
        "~~~\n",
        "~~~\n",
        "STUDENT GIT LINK: https://github.com/omri2461/advance_comp_learning_52025\n",
        "~~~\n",
        "In Addition, don't forget to add your ID to the files:\n",
        "`PS0_PyTorch_basics_2024_ID_[211908942].ipynb`  \n",
        "`PS0_PyTorch_basics_2024_ID_[211908942].html`  "
      ]
    },
    {
      "cell_type": "markdown",
      "metadata": {
        "id": "fCByaAJ1q-Gc"
      },
      "source": [
        "## 1. What is PyTorch?\n",
        "\n",
        "\n",
        "PyTorch is a popular open-source library for machine learning, particularly well-suited for deep learning applications.    \n",
        "Here's a breakdown of its key features:\n",
        "\n",
        "    \n",
        "\n",
        "*   **Deep Learning Framework:**  PyTorch provides tools and functionalities to  build and train complex neural networks.\n",
        "*   **Pythonic Interface:**  Known for its Python-like syntax, PyTorch is considered user-friendly and easy to learn.\n",
        "* **Flexibility:**  PyTorch offers both dynamic computational graphs (eager execution) and static graphs (graph mode) for model development.\n",
        "* **Production Ready:**  PyTorch provides features like TorchScript to transition models from development to production seamlessly.\n",
        "* **Scalability:**  PyTorch supports distributed training, enabling you to leverage multiple CPUs or GPUs to train models faster.\n",
        "* **Rich Ecosystem:**  A growing ecosystem of libraries and tools built on PyTorch expands its capabilities for tasks like computer vision, natural language processing, and model interpretability.\n",
        "\n",
        "\n",
        "\n",
        "\n",
        "    \n",
        "    \n",
        "\n",
        "    \n",
        "\n",
        "    \n",
        "    \n",
        "\n"
      ]
    },
    {
      "cell_type": "markdown",
      "metadata": {
        "id": "Y0NFG56arhsD"
      },
      "source": [
        "We start by importing PyTorch's main objects:"
      ]
    },
    {
      "cell_type": "code",
      "execution_count": 1,
      "metadata": {
        "id": "phCzuWkUqPRk"
      },
      "outputs": [],
      "source": [
        "import torch\n",
        "from torch import nn"
      ]
    },
    {
      "cell_type": "markdown",
      "metadata": {
        "id": "jL-emQP0xtkr"
      },
      "source": [
        "### PyTorch Main Modules"
      ]
    },
    {
      "cell_type": "markdown",
      "metadata": {
        "id": "AKs60PcGucH7"
      },
      "source": [
        "`torch.nn`:\n",
        "\n",
        "In PyTorch, the `torch.nn` module provides the essential building blocks you need to construct and train neural networks. It offers a comprehensive collection of classes and functions that streamline the deep learning development process.  \n",
        "  \n",
        "*Key Components:*  \n",
        "\n",
        "**Modules**:   \n",
        "These are the fundamental units that perform specific operations on data. They can be combined to create complex neural network architectures. Common examples include:   \n",
        "\n",
        "* Linear Layers (nn.Linear): Apply linear transformations (y = xA^T + b) for feeding data forward through the network.\n",
        "* Convolutional Layers (nn.Conv2d): Perform convolutions, especially useful for processing image data.\n",
        "* Activation Layers (nn.ReLU, nn.Sigmoid): Introduce non-linearity into the network, allowing it to learn complex patterns.\n",
        "* Normalization Layers (nn.BatchNorm2d): Normalize inputs to layers for faster and more stable training.\n",
        "* Recurrent Layers (nn.LSTM, nn.GRU): Handle sequential data like text or time series.\n",
        "* Dropout Layers (nn.Dropout): Introduce randomness by randomly dropping out neurons during training to prevent overfitting.\n",
        "* Many More: PyTorch offers a vast selection of modules catering to diverse neural network architectures.\n",
        "\n",
        "**Containers**:   \n",
        "These classes help you organize and structure your modules into hierarchical networks. They include:\n",
        "* nn.Sequential: Stacks modules in a linear sequence, making it easy to define simple neural networks.\n",
        "* nn.ModuleList: Holds other modules in a list, allowing for more flexible network structures.\n",
        "* nn.ModuleDict: Manages sub-modules with dictionary-like access for complex topologies.\n",
        "\n",
        "**Loss Functions:**   \n",
        "Functions that measure the error between the network's predictions and the ground truth labels. These guide the training process by calculating the gradients used to update the network's weights. Common examples include:\n",
        "* nn.CrossEntropyLoss: For multi-class classification problems.\n",
        "* nn.MSELoss: For mean squared error calculations in regression tasks.\n",
        "\n"
      ]
    },
    {
      "cell_type": "code",
      "execution_count": 2,
      "metadata": {
        "id": "Tw5uR0na0s8J"
      },
      "outputs": [],
      "source": [
        "from torch.utils.data import DataLoader\n"
      ]
    },
    {
      "cell_type": "markdown",
      "metadata": {
        "id": "YzHi6U5zvteu"
      },
      "source": [
        "`torch.utils.data.DataLoader`:\n",
        "\n",
        "In PyTorch, `torch.utils.data.DataLoader` is a powerful tool that simplifies how you load and manage data for training your deep learning models. It acts as an iterator, efficiently providing batches of data during the training process.\n",
        "\n",
        "Here's a breakdown of its key functionalities:\n",
        "\n",
        "Data Management Abstraction:\n",
        "\n",
        "    Decouples data loading logic from your model training code, promoting cleaner and more maintainable code.\n",
        "    Handles complexities like batching, shuffling, and multi-processing data loading, freeing you from writing repetitive code.\n",
        "\n",
        "Efficient Batching:\n",
        "\n",
        "    Groups data samples (images, text, etc.) into batches of a specified size (batch_size). Batching improves computational efficiency by utilizing vectorized operations on GPUs.\n",
        "    Provides an optional collate_fn argument that allows you to customize how samples within a batch are combined. This can be useful for tasks like padding sequences to have the same length."
      ]
    },
    {
      "cell_type": "code",
      "execution_count": 3,
      "metadata": {
        "colab": {
          "base_uri": "https://localhost:8080/",
          "height": 35
        },
        "id": "sbHK6GkR0vIH",
        "outputId": "4a3cd089-71d2-4395-9d74-9bc4c651b5d9"
      },
      "outputs": [
        {
          "output_type": "execute_result",
          "data": {
            "text/plain": [
              "'2.5.0+cu121'"
            ],
            "application/vnd.google.colaboratory.intrinsic+json": {
              "type": "string"
            }
          },
          "metadata": {},
          "execution_count": 3
        }
      ],
      "source": [
        "torch.__version__"
      ]
    },
    {
      "cell_type": "markdown",
      "metadata": {
        "id": "Sut-qO6F0x1X"
      },
      "source": [
        "In our course we use PyTorch version >=2.2.1.   \n",
        "`cu121` refers to CUDA 12.1, a software layer that gives direct access to the GPU's virtual instruction set and parallel computational elements for the execution of compute kernels."
      ]
    },
    {
      "cell_type": "markdown",
      "metadata": {
        "id": "HE9DKe-9s2aH"
      },
      "source": [
        "## 2. Tensors\n",
        "\n",
        "In PyTorch, tensors are the fundamental data structure. They are similar to NumPy arrays but with some key advantages for deep learning:\n",
        "\n",
        "* **Multi-dimensional Arrays**: Like NumPy arrays, tensors can have multiple dimensions, making them suitable for representing data like images (2D), videos (3D), or sequences of text (1D).\n",
        "\n",
        "* **Hardware Acceleration**: PyTorch tensors can be moved to and run on GPUs or other hardware accelerators, significantly speeding up computations compared to CPUs for deep learning tasks.\n",
        "\n",
        "* **Automatic Differentiation**:  A core feature in deep learning, automatic differentiation allows PyTorch to calculate gradients efficiently, which is essential for training neural networks.  Regular NumPy arrays don't inherently support this.\n",
        "\n",
        "* **Rich Functionality**: PyTorch offers a variety of operations specifically designed for tensors, making it convenient to manipulate and analyze data for deep learning models.\n",
        "\n",
        "In essence, tensors in PyTorch act as the workhorses for your deep learning models. They store and process the data that gets fed into your network, undergoes computations, and ultimately leads to predictions or outputs.\n"
      ]
    },
    {
      "cell_type": "markdown",
      "metadata": {
        "id": "PrthmFbIfsXR"
      },
      "source": [
        "**PyTorch tensor operations:**\n",
        "\n",
        "PyTorch tensor operations are the fundamental building blocks for working with data in your deep learning models. These operations allow you to manipulate, analyze, and transform tensors in various ways. Here's a breakdown of some common categories:\n",
        "\n",
        "1. Arithmetic Operations:\n",
        "\n",
        "These operations perform element-wise calculations between tensors or a tensor and a scalar value. They include:\n",
        "\n",
        "    Addition (+)\n",
        "    Subtraction (-)\n",
        "    Multiplication (*)\n",
        "    Division (/)\n",
        "    Exponentiation (**)\n",
        "\n",
        "These operations can be used for simple calculations or combined to create more complex expressions.\n",
        "\n",
        "2. Comparison Operations:\n",
        "\n",
        "These operations compare elements between tensors or a tensor and a scalar value, resulting in a tensor of booleans (True or False) indicating the comparison outcome. Examples include:\n",
        "\n",
        "    Equal (==)\n",
        "    Not equal (!=)\n",
        "    Greater than (>)\n",
        "    Less than (<)\n",
        "    Greater than or equal (>=)\n",
        "    Less than or equal (<=)\n",
        "\n",
        "Comparison operations are useful for filtering data or making decisions within your model.\n",
        "\n",
        "3. Broadcasting:\n",
        "\n",
        "A powerful feature in PyTorch, broadcasting allows operations between tensors of different shapes as long as they are compatible. For instance, you can add a scalar value to a tensor, or add a one-dimensional tensor to a two-dimensional tensor (as long as the dimensions match). PyTorch automatically expands the smaller tensor to match the larger one for element-wise operations.\n",
        "\n",
        "4. In-place Operations:\n",
        "\n",
        "Certain operations modify the original tensor they are applied to, denoted by a trailing underscore (_). Examples include:\n",
        "\n",
        "    x.add_(y) (equivalent to x = x + y)\n",
        "    x.sub_(y) (equivalent to x = x - y)\n",
        "    x.mul_(y) (equivalent to x = x * y)\n",
        "\n",
        "These operations can be memory-efficient when modifying existing tensors is desired.\n",
        "\n",
        "5. Linear Algebra Operations:\n",
        "\n",
        "PyTorch provides functions for common linear algebra operations on tensors, including:\n",
        "\n",
        "    torch.matmul(a, b): Matrix multiplication between tensors a and b.\n",
        "    torch.sum(input, dim=None): Sums the elements of a tensor along a specified dimension.\n",
        "    torch.mean(input, dim=None): Computes the mean of the elements of a tensor along a specified dimension.\n",
        "\n",
        "These operations are essential for various deep learning tasks like calculating activation outputs or loss functions.\n",
        "\n",
        "6. Tensor Reshaping and Indexing:\n",
        "\n",
        "PyTorch offers functionalities to manipulate the shape and access specific elements of tensors:\n",
        "\n",
        "    x.view(new_shape): Reshapes the tensor x into a new shape while keeping the total number of elements the same.\n",
        "    x[index]: Accesses specific elements or sub-tensors using indexing syntax (similar to NumPy).\n",
        "\n",
        "Reshaping and indexing are crucial for preparing data for specific layers in your neural network architecture.\n",
        "\n",
        "7. Element-wise Operations:\n",
        "\n",
        "These operations apply a function to each element of a tensor independently. PyTorch provides a rich set of element-wise functions like:\n",
        "\n",
        "    torch.relu(x): Applies the rectified linear unit (ReLU) activation function.\n",
        "    torch.sigmoid(x): Applies the sigmoid activation function.\n",
        "    torch.tanh(x): Applies the hyperbolic tangent (tanh) activation function.\n",
        "\n",
        "Element-wise operations are fundamental for introducing non-linearity and transforming data in deep learning models.\n",
        "\n",
        "8. Random Operations:\n",
        "\n",
        "PyTorch offers functions for generating random tensors or modifying existing ones with randomness:\n",
        "\n",
        "    torch.rand(shape): Generates a random tensor filled with uniformly distributed values between 0 and 1.\n",
        "    torch.randn(shape): Generates a random tensor filled with values from a standard normal distribution.\n",
        "\n",
        "These operations are useful for data augmentation techniques or initializing weights in your network.\n",
        "\n",
        "By understanding and effectively using these PyTorch tensor operations, you can build and manipulate your deep learning models with greater flexibility and control."
      ]
    },
    {
      "cell_type": "markdown",
      "metadata": {
        "id": "H9nYSKhmoAQy"
      },
      "source": [
        "Some examples:"
      ]
    },
    {
      "cell_type": "code",
      "execution_count": 4,
      "metadata": {
        "colab": {
          "base_uri": "https://localhost:8080/"
        },
        "id": "DMm7DspXrWpj",
        "outputId": "4f56b9ff-c415-4358-fe3f-a5559a12dc78"
      },
      "outputs": [
        {
          "output_type": "stream",
          "name": "stdout",
          "text": [
            "tens: tensor([[1, 2, 3, 4],\n",
            "        [5, 6, 7, 8]])\n",
            "Shape of tensor: torch.Size([2, 4])\n",
            "Datatype of tensor: torch.int64\n",
            "Device tensor is stored on: cpu\n"
          ]
        }
      ],
      "source": [
        "lst_of_lsts = [[1, 2, 3, 4],[5, 6, 7, 8]]\n",
        "tens = torch.tensor(lst_of_lsts)\n",
        "print(f\"tens: {tens}\")\n",
        "print(f\"Shape of tensor: {tens.shape}\")\n",
        "print(f\"Datatype of tensor: {tens.dtype}\")\n",
        "print(f\"Device tensor is stored on: {tens.device}\")\n"
      ]
    },
    {
      "cell_type": "code",
      "execution_count": 5,
      "metadata": {
        "colab": {
          "base_uri": "https://localhost:8080/"
        },
        "id": "cLgpeDPeoDpG",
        "outputId": "a6bfeb8d-307d-494d-c949-5cb918d7efd5"
      },
      "outputs": [
        {
          "output_type": "stream",
          "name": "stdout",
          "text": [
            "Random Tensor: \n",
            " tensor([[[0.2385, 0.6247, 0.5467],\n",
            "         [0.9129, 0.0935, 0.8226]],\n",
            "\n",
            "        [[0.4031, 0.9712, 0.9699],\n",
            "         [0.7131, 0.5703, 0.7080]]]) \n",
            "\n",
            "Ones Tensor: \n",
            " tensor([[[1., 1., 1.],\n",
            "         [1., 1., 1.]],\n",
            "\n",
            "        [[1., 1., 1.],\n",
            "         [1., 1., 1.]]]) \n",
            "\n",
            "Zeros Tensor: \n",
            " tensor([[[0., 0., 0.],\n",
            "         [0., 0., 0.]],\n",
            "\n",
            "        [[0., 0., 0.],\n",
            "         [0., 0., 0.]]])\n"
          ]
        }
      ],
      "source": [
        "shape = (2,2,3)\n",
        "rand_tensor = torch.rand(shape)\n",
        "ones_tensor = torch.ones(shape)\n",
        "zeros_tensor = torch.zeros(shape)\n",
        "\n",
        "print(f\"Random Tensor: \\n {rand_tensor} \\n\")\n",
        "print(f\"Ones Tensor: \\n {ones_tensor} \\n\")\n",
        "print(f\"Zeros Tensor: \\n {zeros_tensor}\")"
      ]
    },
    {
      "cell_type": "code",
      "execution_count": 6,
      "metadata": {
        "colab": {
          "base_uri": "https://localhost:8080/"
        },
        "id": "5ADu57CsoykL",
        "outputId": "87f8c027-6cc4-431e-826e-536da516842a"
      },
      "outputs": [
        {
          "output_type": "stream",
          "name": "stdout",
          "text": [
            "t4.shape: torch.Size([300, 3])\n",
            "t5.shape: torch.Size([100, 9])\n"
          ]
        }
      ],
      "source": [
        "shpe = (100,3)\n",
        "t1 = torch.rand(shpe)\n",
        "t2 = torch.rand(shpe)\n",
        "t3 = torch.rand(shpe)\n",
        "t4=torch.cat([t1,t2,t3],dim=0)\n",
        "print(f\"t4.shape: {t4.shape}\")\n",
        "t5=torch.cat([t1,t2,t3],dim=1)\n",
        "print(f\"t5.shape: {t5.shape}\")"
      ]
    },
    {
      "cell_type": "code",
      "execution_count": 7,
      "metadata": {
        "colab": {
          "base_uri": "https://localhost:8080/"
        },
        "id": "NwV4Fnweo1OT",
        "outputId": "00b82cff-4fcb-4741-8c71-a06a42f9124f"
      },
      "outputs": [
        {
          "output_type": "execute_result",
          "data": {
            "text/plain": [
              "tensor([[ 6.9132, -0.7948, -0.3437,  ...,  0.2219,  0.0505, -0.2270],\n",
              "        [-0.7948,  7.5566, -0.1866,  ..., -0.8708,  0.0447, -0.6049],\n",
              "        [-0.3437, -0.1866,  7.7769,  ..., -0.0571, -1.3141, -0.0693],\n",
              "        ...,\n",
              "        [ 0.2219, -0.8708, -0.0571,  ...,  8.3576, -0.8165, -1.1762],\n",
              "        [ 0.0505,  0.0447, -1.3141,  ..., -0.8165,  8.3468,  0.1213],\n",
              "        [-0.2270, -0.6049, -0.0693,  ..., -1.1762,  0.1213,  8.7458]])"
            ]
          },
          "metadata": {},
          "execution_count": 7
        }
      ],
      "source": [
        "X = torch.rand(100,100)\n",
        "X_cent = X - X.mean(dim=1, keepdim=True)\n",
        "covX = X_cent.T@X_cent\n",
        "covX"
      ]
    },
    {
      "cell_type": "markdown",
      "metadata": {
        "id": "2qKr9lixtGgO"
      },
      "source": [
        "## Data & Handling"
      ]
    },
    {
      "cell_type": "markdown",
      "metadata": {
        "id": "9TJNXJdfuHxH"
      },
      "source": [
        "### PyTorch Datasets"
      ]
    },
    {
      "cell_type": "markdown",
      "metadata": {
        "id": "YZEnT7gHzWUp"
      },
      "source": [
        "Deep networks are versatile tools that can be adapted to various data types by\n",
        "leveraging appropriate pre-processing techniques and network architectures.\n",
        "PyTorch, like other deep learning libraries, can handle a wide array of data:\n",
        "  \n",
        "\n",
        "\n",
        "* images\n",
        "* audio\n",
        "* text data\n",
        "* tabluar (numerical, categorical, mixed)\n",
        "* multimodal Data\n",
        "* other\n",
        "\n"
      ]
    },
    {
      "cell_type": "markdown",
      "metadata": {
        "id": "GbZ5lmtzuKlb"
      },
      "source": [
        "PyTorch also offers built-in vision specific datasets as part of the `torchvision.datasets` [module](https://pytorch.org/vision/stable/datasets.html):"
      ]
    },
    {
      "cell_type": "code",
      "execution_count": 8,
      "metadata": {
        "id": "9kGSr-D-y42B"
      },
      "outputs": [],
      "source": [
        "from torchvision import datasets"
      ]
    },
    {
      "cell_type": "code",
      "execution_count": 9,
      "metadata": {
        "colab": {
          "base_uri": "https://localhost:8080/"
        },
        "id": "ML5of6dVzEAY",
        "outputId": "7f74c4db-69e0-476d-9d28-1a1e107d9873"
      },
      "outputs": [
        {
          "output_type": "execute_result",
          "data": {
            "text/plain": [
              "['CIFAR10',\n",
              " 'CIFAR100',\n",
              " 'CLEVRClassification',\n",
              " 'CREStereo',\n",
              " 'Caltech101',\n",
              " 'Caltech256',\n",
              " 'CarlaStereo',\n",
              " 'CelebA',\n",
              " 'Cityscapes',\n",
              " 'CocoCaptions',\n",
              " 'CocoDetection',\n",
              " 'Country211',\n",
              " 'DTD',\n",
              " 'DatasetFolder',\n",
              " 'EMNIST',\n",
              " 'ETH3DStereo',\n",
              " 'EuroSAT',\n",
              " 'FER2013',\n",
              " 'FGVCAircraft',\n",
              " 'FakeData',\n",
              " 'FallingThingsStereo',\n",
              " 'FashionMNIST',\n",
              " 'Flickr30k',\n",
              " 'Flickr8k',\n",
              " 'Flowers102',\n",
              " 'FlyingChairs',\n",
              " 'FlyingThings3D',\n",
              " 'Food101',\n",
              " 'GTSRB',\n",
              " 'HD1K',\n",
              " 'HMDB51',\n",
              " 'INaturalist',\n",
              " 'ImageFolder',\n",
              " 'ImageNet',\n",
              " 'Imagenette',\n",
              " 'InStereo2k',\n",
              " 'KMNIST',\n",
              " 'Kinetics',\n",
              " 'Kitti',\n",
              " 'Kitti2012Stereo',\n",
              " 'Kitti2015Stereo',\n",
              " 'KittiFlow',\n",
              " 'LFWPairs',\n",
              " 'LFWPeople',\n",
              " 'LSUN',\n",
              " 'LSUNClass',\n",
              " 'MNIST',\n",
              " 'Middlebury2014Stereo',\n",
              " 'MovingMNIST',\n",
              " 'Omniglot',\n",
              " 'OxfordIIITPet',\n",
              " 'PCAM',\n",
              " 'PhotoTour',\n",
              " 'Places365',\n",
              " 'QMNIST',\n",
              " 'RenderedSST2',\n",
              " 'SBDataset',\n",
              " 'SBU',\n",
              " 'SEMEION',\n",
              " 'STL10',\n",
              " 'SUN397',\n",
              " 'SVHN',\n",
              " 'SceneFlowStereo',\n",
              " 'Sintel',\n",
              " 'SintelStereo',\n",
              " 'StanfordCars',\n",
              " 'UCF101',\n",
              " 'USPS',\n",
              " 'VOCDetection',\n",
              " 'VOCSegmentation',\n",
              " 'VisionDataset',\n",
              " 'WIDERFace',\n",
              " '__all__',\n",
              " '__builtins__',\n",
              " '__cached__',\n",
              " '__doc__',\n",
              " '__file__',\n",
              " '__getattr__',\n",
              " '__loader__',\n",
              " '__name__',\n",
              " '__package__',\n",
              " '__path__',\n",
              " '__spec__',\n",
              " '_optical_flow',\n",
              " '_stereo_matching',\n",
              " 'caltech',\n",
              " 'celeba',\n",
              " 'cifar',\n",
              " 'cityscapes',\n",
              " 'clevr',\n",
              " 'coco',\n",
              " 'country211',\n",
              " 'dtd',\n",
              " 'eurosat',\n",
              " 'fakedata',\n",
              " 'fer2013',\n",
              " 'fgvc_aircraft',\n",
              " 'flickr',\n",
              " 'flowers102',\n",
              " 'folder',\n",
              " 'food101',\n",
              " 'gtsrb',\n",
              " 'hmdb51',\n",
              " 'imagenet',\n",
              " 'imagenette',\n",
              " 'inaturalist',\n",
              " 'kinetics',\n",
              " 'kitti',\n",
              " 'lfw',\n",
              " 'lsun',\n",
              " 'mnist',\n",
              " 'moving_mnist',\n",
              " 'omniglot',\n",
              " 'oxford_iiit_pet',\n",
              " 'pcam',\n",
              " 'phototour',\n",
              " 'places365',\n",
              " 'rendered_sst2',\n",
              " 'sbd',\n",
              " 'sbu',\n",
              " 'semeion',\n",
              " 'stanford_cars',\n",
              " 'stl10',\n",
              " 'sun397',\n",
              " 'svhn',\n",
              " 'ucf101',\n",
              " 'usps',\n",
              " 'utils',\n",
              " 'video_utils',\n",
              " 'vision',\n",
              " 'voc',\n",
              " 'widerface']"
            ]
          },
          "metadata": {},
          "execution_count": 9
        }
      ],
      "source": [
        "dir(datasets)"
      ]
    },
    {
      "cell_type": "markdown",
      "metadata": {
        "id": "6CCQWfKR0etj"
      },
      "source": []
    },
    {
      "cell_type": "code",
      "execution_count": 10,
      "metadata": {
        "colab": {
          "base_uri": "https://localhost:8080/"
        },
        "id": "WQjlYm3I3bIj",
        "outputId": "ef4adc97-db52-447c-b081-59699d01915b"
      },
      "outputs": [
        {
          "output_type": "stream",
          "name": "stdout",
          "text": [
            "Downloading http://fashion-mnist.s3-website.eu-central-1.amazonaws.com/train-images-idx3-ubyte.gz\n",
            "Downloading http://fashion-mnist.s3-website.eu-central-1.amazonaws.com/train-images-idx3-ubyte.gz to data/FashionMNIST/raw/train-images-idx3-ubyte.gz\n"
          ]
        },
        {
          "output_type": "stream",
          "name": "stderr",
          "text": [
            "100%|██████████| 26.4M/26.4M [00:01<00:00, 17.3MB/s]\n"
          ]
        },
        {
          "output_type": "stream",
          "name": "stdout",
          "text": [
            "Extracting data/FashionMNIST/raw/train-images-idx3-ubyte.gz to data/FashionMNIST/raw\n",
            "\n",
            "Downloading http://fashion-mnist.s3-website.eu-central-1.amazonaws.com/train-labels-idx1-ubyte.gz\n",
            "Downloading http://fashion-mnist.s3-website.eu-central-1.amazonaws.com/train-labels-idx1-ubyte.gz to data/FashionMNIST/raw/train-labels-idx1-ubyte.gz\n"
          ]
        },
        {
          "output_type": "stream",
          "name": "stderr",
          "text": [
            "100%|██████████| 29.5k/29.5k [00:00<00:00, 350kB/s]\n"
          ]
        },
        {
          "output_type": "stream",
          "name": "stdout",
          "text": [
            "Extracting data/FashionMNIST/raw/train-labels-idx1-ubyte.gz to data/FashionMNIST/raw\n",
            "\n",
            "Downloading http://fashion-mnist.s3-website.eu-central-1.amazonaws.com/t10k-images-idx3-ubyte.gz\n",
            "Downloading http://fashion-mnist.s3-website.eu-central-1.amazonaws.com/t10k-images-idx3-ubyte.gz to data/FashionMNIST/raw/t10k-images-idx3-ubyte.gz\n"
          ]
        },
        {
          "output_type": "stream",
          "name": "stderr",
          "text": [
            "100%|██████████| 4.42M/4.42M [00:00<00:00, 6.10MB/s]\n"
          ]
        },
        {
          "output_type": "stream",
          "name": "stdout",
          "text": [
            "Extracting data/FashionMNIST/raw/t10k-images-idx3-ubyte.gz to data/FashionMNIST/raw\n",
            "\n",
            "Downloading http://fashion-mnist.s3-website.eu-central-1.amazonaws.com/t10k-labels-idx1-ubyte.gz\n",
            "Downloading http://fashion-mnist.s3-website.eu-central-1.amazonaws.com/t10k-labels-idx1-ubyte.gz to data/FashionMNIST/raw/t10k-labels-idx1-ubyte.gz\n"
          ]
        },
        {
          "output_type": "stream",
          "name": "stderr",
          "text": [
            "100%|██████████| 5.15k/5.15k [00:00<00:00, 6.90MB/s]\n"
          ]
        },
        {
          "output_type": "stream",
          "name": "stdout",
          "text": [
            "Extracting data/FashionMNIST/raw/t10k-labels-idx1-ubyte.gz to data/FashionMNIST/raw\n",
            "\n"
          ]
        },
        {
          "output_type": "execute_result",
          "data": {
            "text/plain": [
              "Dataset FashionMNIST\n",
              "    Number of datapoints: 60000\n",
              "    Root location: data\n",
              "    Split: Train\n",
              "    StandardTransform\n",
              "Transform: ToTensor()"
            ]
          },
          "metadata": {},
          "execution_count": 10
        }
      ],
      "source": [
        "from torchvision.transforms import ToTensor\n",
        "train_source = training_data = datasets.FashionMNIST(\n",
        "    root=\"data\",\n",
        "    train=True,\n",
        "    download=True,\n",
        "    transform=ToTensor()\n",
        ")\n",
        "train_source"
      ]
    },
    {
      "cell_type": "code",
      "execution_count": 11,
      "metadata": {
        "colab": {
          "base_uri": "https://localhost:8080/",
          "height": 204
        },
        "id": "uq7YInbH3z4K",
        "outputId": "0fbd9fd6-6f92-4b6d-a183-5894d19d8c44"
      },
      "outputs": [
        {
          "output_type": "execute_result",
          "data": {
            "text/plain": [
              "torchvision.datasets.mnist.FashionMNIST"
            ],
            "text/html": [
              "<div style=\"max-width:800px; border: 1px solid var(--colab-border-color);\"><style>\n",
              "      pre.function-repr-contents {\n",
              "        overflow-x: auto;\n",
              "        padding: 8px 12px;\n",
              "        max-height: 500px;\n",
              "      }\n",
              "\n",
              "      pre.function-repr-contents.function-repr-contents-collapsed {\n",
              "        cursor: pointer;\n",
              "        max-height: 100px;\n",
              "      }\n",
              "    </style>\n",
              "    <pre style=\"white-space: initial; background:\n",
              "         var(--colab-secondary-surface-color); padding: 8px 12px;\n",
              "         border-bottom: 1px solid var(--colab-border-color);\"><b>torchvision.datasets.mnist.FashionMNIST</b><br/>def __init__(root: Union[str, Path], train: bool=True, transform: Optional[Callable]=None, target_transform: Optional[Callable]=None, download: bool=False) -&gt; None</pre><pre class=\"function-repr-contents function-repr-contents-collapsed\" style=\"\"><a class=\"filepath\" style=\"display:none\" href=\"#\">/usr/local/lib/python3.10/dist-packages/torchvision/datasets/mnist.py</a>`Fashion-MNIST &lt;https://github.com/zalandoresearch/fashion-mnist&gt;`_ Dataset.\n",
              "\n",
              "Args:\n",
              "    root (str or ``pathlib.Path``): Root directory of dataset where ``FashionMNIST/raw/train-images-idx3-ubyte``\n",
              "        and  ``FashionMNIST/raw/t10k-images-idx3-ubyte`` exist.\n",
              "    train (bool, optional): If True, creates dataset from ``train-images-idx3-ubyte``,\n",
              "        otherwise from ``t10k-images-idx3-ubyte``.\n",
              "    download (bool, optional): If True, downloads the dataset from the internet and\n",
              "        puts it in root directory. If dataset is already downloaded, it is not\n",
              "        downloaded again.\n",
              "    transform (callable, optional): A function/transform that  takes in a PIL image\n",
              "        and returns a transformed version. E.g, ``transforms.RandomCrop``\n",
              "    target_transform (callable, optional): A function/transform that takes in the\n",
              "        target and transforms it.</pre>\n",
              "      <script>\n",
              "      if (google.colab.kernel.accessAllowed && google.colab.files && google.colab.files.view) {\n",
              "        for (const element of document.querySelectorAll('.filepath')) {\n",
              "          element.style.display = 'block'\n",
              "          element.onclick = (event) => {\n",
              "            event.preventDefault();\n",
              "            event.stopPropagation();\n",
              "            google.colab.files.view(element.textContent, 203);\n",
              "          };\n",
              "        }\n",
              "      }\n",
              "      for (const element of document.querySelectorAll('.function-repr-contents')) {\n",
              "        element.onclick = (event) => {\n",
              "          event.preventDefault();\n",
              "          event.stopPropagation();\n",
              "          element.classList.toggle('function-repr-contents-collapsed');\n",
              "        };\n",
              "      }\n",
              "      </script>\n",
              "      </div>"
            ]
          },
          "metadata": {},
          "execution_count": 11
        }
      ],
      "source": [
        "type(train_source)"
      ]
    },
    {
      "cell_type": "code",
      "execution_count": 12,
      "metadata": {
        "colab": {
          "base_uri": "https://localhost:8080/"
        },
        "id": "CI0VZXWe5oL_",
        "outputId": "dac7a7b2-b544-469c-d40e-0551eea78cb3"
      },
      "outputs": [
        {
          "output_type": "stream",
          "name": "stdout",
          "text": [
            "the shape of the data: torch.Size([60000, 28, 28])\n"
          ]
        }
      ],
      "source": [
        "print(f\"the shape of the data: {train_source.data.shape}\")"
      ]
    },
    {
      "cell_type": "markdown",
      "metadata": {
        "id": "QvCx0iKV5uPl"
      },
      "source": [
        "We can visualize the data using matplotlib:"
      ]
    },
    {
      "cell_type": "code",
      "execution_count": 13,
      "metadata": {
        "id": "UpM3phXL41eL"
      },
      "outputs": [],
      "source": [
        "import matplotlib.pyplot as plt"
      ]
    },
    {
      "cell_type": "code",
      "execution_count": 14,
      "metadata": {
        "colab": {
          "base_uri": "https://localhost:8080/",
          "height": 502
        },
        "id": "UGVwuqTP4w6B",
        "outputId": "2ea381fb-bfea-47de-c43b-d59b7828a843"
      },
      "outputs": [
        {
          "output_type": "display_data",
          "data": {
            "text/plain": [
              "<Figure size 800x800 with 10 Axes>"
            ],
            "image/png": "[encoded data removed]"
          },
          "metadata": {}
        }
      ],
      "source": [
        "labels_map = {\n",
        "    0: \"T-Shirt\",\n",
        "    1: \"Trouser\",\n",
        "    2: \"Pullover\",\n",
        "    3: \"Dress\",\n",
        "    4: \"Coat\",\n",
        "    5: \"Sandal\",\n",
        "    6: \"Shirt\",\n",
        "    7: \"Sneaker\",\n",
        "    8: \"Bag\",\n",
        "    9: \"Ankle Boot\",\n",
        "}\n",
        "figure = plt.figure(figsize=(8, 8))\n",
        "cols, rows = 5, 2\n",
        "for i in range(1, cols * rows + 1):\n",
        "    sample_idx = torch.randint(len(train_source), size=(1,)).item()\n",
        "    img, label = train_source[sample_idx]\n",
        "    figure.add_subplot(rows, cols, i)\n",
        "    plt.title(labels_map[label])\n",
        "    plt.axis(\"off\")\n",
        "    plt.imshow(img.squeeze(), cmap=\"gray\")\n",
        "plt.show()"
      ]
    },
    {
      "cell_type": "markdown",
      "metadata": {
        "id": "WUArfaqcuF9p"
      },
      "source": [
        "### DataLoader"
      ]
    },
    {
      "cell_type": "markdown",
      "metadata": {
        "id": "ptoV6URJtMyg"
      },
      "source": [
        "As mentioned above, the `torch.utils.data.DataLoader` is responsible for handling data during the deep learning model training.\n",
        "\n",
        "Key Parameters:\n",
        "\n",
        "* dataset (Dataset): The PyTorch dataset you want to load data from (your custom class representing the data and how to access samples and labels).\n",
        "* batch_size (int, optional): The number of samples in a batch (default: 1).\n",
        "* shuffle (bool, optional): Whether to shuffle the data at the beginning of each epoch (default: False).\n",
        "* sampler (Sampler, optional): A custom sampler object for controlling data loading order (default: None).\n",
        "* collate_fn (callable, optional): A function to customize how samples within a batch are combined (default: None). Useful for padding sequences.\n",
        "* pin_memory=True (bool, optional): If using a GPU, pin fetched data tensors in pinned memory for faster transfer (default: False)."
      ]
    },
    {
      "cell_type": "code",
      "execution_count": 15,
      "metadata": {
        "colab": {
          "base_uri": "https://localhost:8080/",
          "height": 291
        },
        "id": "4XyudTrorICU",
        "outputId": "15bcaecb-5792-49e8-e35b-d75d5c9dac3e"
      },
      "outputs": [
        {
          "output_type": "execute_result",
          "data": {
            "text/plain": [
              "torch.utils.data.dataloader.DataLoader"
            ],
            "text/html": [
              "<div style=\"max-width:800px; border: 1px solid var(--colab-border-color);\"><style>\n",
              "      pre.function-repr-contents {\n",
              "        overflow-x: auto;\n",
              "        padding: 8px 12px;\n",
              "        max-height: 500px;\n",
              "      }\n",
              "\n",
              "      pre.function-repr-contents.function-repr-contents-collapsed {\n",
              "        cursor: pointer;\n",
              "        max-height: 100px;\n",
              "      }\n",
              "    </style>\n",
              "    <pre style=\"white-space: initial; background:\n",
              "         var(--colab-secondary-surface-color); padding: 8px 12px;\n",
              "         border-bottom: 1px solid var(--colab-border-color);\"><b>torch.utils.data.dataloader.DataLoader</b><br/>def __init__(dataset: Dataset[_T_co], batch_size: Optional[int]=1, shuffle: Optional[bool]=None, sampler: Union[Sampler, Iterable, None]=None, batch_sampler: Union[Sampler[List], Iterable[List], None]=None, num_workers: int=0, collate_fn: Optional[_collate_fn_t]=None, pin_memory: bool=False, drop_last: bool=False, timeout: float=0, worker_init_fn: Optional[_worker_init_fn_t]=None, multiprocessing_context=None, generator=None, *, prefetch_factor: Optional[int]=None, persistent_workers: bool=False, pin_memory_device: str=&#x27;&#x27;)</pre><pre class=\"function-repr-contents function-repr-contents-collapsed\" style=\"\"><a class=\"filepath\" style=\"display:none\" href=\"#\">/usr/local/lib/python3.10/dist-packages/torch/utils/data/dataloader.py</a>Data loader combines a dataset and a sampler, and provides an iterable over the given dataset.\n",
              "\n",
              "The :class:`~torch.utils.data.DataLoader` supports both map-style and\n",
              "iterable-style datasets with single- or multi-process loading, customizing\n",
              "loading order and optional automatic batching (collation) and memory pinning.\n",
              "\n",
              "See :py:mod:`torch.utils.data` documentation page for more details.\n",
              "\n",
              "Args:\n",
              "    dataset (Dataset): dataset from which to load the data.\n",
              "    batch_size (int, optional): how many samples per batch to load\n",
              "        (default: ``1``).\n",
              "    shuffle (bool, optional): set to ``True`` to have the data reshuffled\n",
              "        at every epoch (default: ``False``).\n",
              "    sampler (Sampler or Iterable, optional): defines the strategy to draw\n",
              "        samples from the dataset. Can be any ``Iterable`` with ``__len__``\n",
              "        implemented. If specified, :attr:`shuffle` must not be specified.\n",
              "    batch_sampler (Sampler or Iterable, optional): like :attr:`sampler`, but\n",
              "        returns a batch of indices at a time. Mutually exclusive with\n",
              "        :attr:`batch_size`, :attr:`shuffle`, :attr:`sampler`,\n",
              "        and :attr:`drop_last`.\n",
              "    num_workers (int, optional): how many subprocesses to use for data\n",
              "        loading. ``0`` means that the data will be loaded in the main process.\n",
              "        (default: ``0``)\n",
              "    collate_fn (Callable, optional): merges a list of samples to form a\n",
              "        mini-batch of Tensor(s).  Used when using batched loading from a\n",
              "        map-style dataset.\n",
              "    pin_memory (bool, optional): If ``True``, the data loader will copy Tensors\n",
              "        into device/CUDA pinned memory before returning them.  If your data elements\n",
              "        are a custom type, or your :attr:`collate_fn` returns a batch that is a custom type,\n",
              "        see the example below.\n",
              "    drop_last (bool, optional): set to ``True`` to drop the last incomplete batch,\n",
              "        if the dataset size is not divisible by the batch size. If ``False`` and\n",
              "        the size of dataset is not divisible by the batch size, then the last batch\n",
              "        will be smaller. (default: ``False``)\n",
              "    timeout (numeric, optional): if positive, the timeout value for collecting a batch\n",
              "        from workers. Should always be non-negative. (default: ``0``)\n",
              "    worker_init_fn (Callable, optional): If not ``None``, this will be called on each\n",
              "        worker subprocess with the worker id (an int in ``[0, num_workers - 1]``) as\n",
              "        input, after seeding and before data loading. (default: ``None``)\n",
              "    multiprocessing_context (str or multiprocessing.context.BaseContext, optional): If\n",
              "        ``None``, the default `multiprocessing context`_ of your operating system will\n",
              "        be used. (default: ``None``)\n",
              "    generator (torch.Generator, optional): If not ``None``, this RNG will be used\n",
              "        by RandomSampler to generate random indexes and multiprocessing to generate\n",
              "        ``base_seed`` for workers. (default: ``None``)\n",
              "    prefetch_factor (int, optional, keyword-only arg): Number of batches loaded\n",
              "        in advance by each worker. ``2`` means there will be a total of\n",
              "        2 * num_workers batches prefetched across all workers. (default value depends\n",
              "        on the set value for num_workers. If value of num_workers=0 default is ``None``.\n",
              "        Otherwise, if value of ``num_workers &gt; 0`` default is ``2``).\n",
              "    persistent_workers (bool, optional): If ``True``, the data loader will not shut down\n",
              "        the worker processes after a dataset has been consumed once. This allows to\n",
              "        maintain the workers `Dataset` instances alive. (default: ``False``)\n",
              "    pin_memory_device (str, optional): the device to :attr:`pin_memory` to if ``pin_memory`` is\n",
              "        ``True``.\n",
              "\n",
              "\n",
              ".. warning:: If the ``spawn`` start method is used, :attr:`worker_init_fn`\n",
              "             cannot be an unpicklable object, e.g., a lambda function. See\n",
              "             :ref:`multiprocessing-best-practices` on more details related\n",
              "             to multiprocessing in PyTorch.\n",
              "\n",
              ".. warning:: ``len(dataloader)`` heuristic is based on the length of the sampler used.\n",
              "             When :attr:`dataset` is an :class:`~torch.utils.data.IterableDataset`,\n",
              "             it instead returns an estimate based on ``len(dataset) / batch_size``, with proper\n",
              "             rounding depending on :attr:`drop_last`, regardless of multi-process loading\n",
              "             configurations. This represents the best guess PyTorch can make because PyTorch\n",
              "             trusts user :attr:`dataset` code in correctly handling multi-process\n",
              "             loading to avoid duplicate data.\n",
              "\n",
              "             However, if sharding results in multiple workers having incomplete last batches,\n",
              "             this estimate can still be inaccurate, because (1) an otherwise complete batch can\n",
              "             be broken into multiple ones and (2) more than one batch worth of samples can be\n",
              "             dropped when :attr:`drop_last` is set. Unfortunately, PyTorch can not detect such\n",
              "             cases in general.\n",
              "\n",
              "             See `Dataset Types`_ for more details on these two types of datasets and how\n",
              "             :class:`~torch.utils.data.IterableDataset` interacts with\n",
              "             `Multi-process data loading`_.\n",
              "\n",
              ".. warning:: See :ref:`reproducibility`, and :ref:`dataloader-workers-random-seed`, and\n",
              "             :ref:`data-loading-randomness` notes for random seed related questions.\n",
              "\n",
              ".. _multiprocessing context:\n",
              "    https://docs.python.org/3/library/multiprocessing.html#contexts-and-start-methods</pre>\n",
              "      <script>\n",
              "      if (google.colab.kernel.accessAllowed && google.colab.files && google.colab.files.view) {\n",
              "        for (const element of document.querySelectorAll('.filepath')) {\n",
              "          element.style.display = 'block'\n",
              "          element.onclick = (event) => {\n",
              "            event.preventDefault();\n",
              "            event.stopPropagation();\n",
              "            google.colab.files.view(element.textContent, 130);\n",
              "          };\n",
              "        }\n",
              "      }\n",
              "      for (const element of document.querySelectorAll('.function-repr-contents')) {\n",
              "        element.onclick = (event) => {\n",
              "          event.preventDefault();\n",
              "          event.stopPropagation();\n",
              "          element.classList.toggle('function-repr-contents-collapsed');\n",
              "        };\n",
              "      }\n",
              "      </script>\n",
              "      </div>"
            ]
          },
          "metadata": {},
          "execution_count": 15
        }
      ],
      "source": [
        "train = DataLoader(train_source, batch_size=64, shuffle=True)\n",
        "type(train)"
      ]
    },
    {
      "cell_type": "markdown",
      "metadata": {
        "id": "FdKFXjkH6NPg"
      },
      "source": [
        "\n",
        "\n",
        "> The Dataset retrieves our dataset’s features and labels one sample at a time. While training a model, we typically want to pass samples in “minibatches”, reshuffle the data at every epoch to reduce model overfitting, and use Python’s multiprocessing to speed up data retrieval.\n",
        "\n"
      ]
    },
    {
      "cell_type": "code",
      "execution_count": 16,
      "metadata": {
        "colab": {
          "base_uri": "https://localhost:8080/"
        },
        "id": "vBYbBhat6DBf",
        "outputId": "c0151a61-ec47-4c71-c131-11fc8878ab53"
      },
      "outputs": [
        {
          "output_type": "stream",
          "name": "stdout",
          "text": [
            "batch shape: torch.Size([64, 1, 28, 28])\n",
            "batch shape: torch.Size([64, 1, 28, 28])\n",
            "batch shape: torch.Size([64, 1, 28, 28])\n",
            "batch shape: torch.Size([64, 1, 28, 28])\n",
            "batch shape: torch.Size([64, 1, 28, 28])\n"
          ]
        }
      ],
      "source": [
        "for i in range(5):\n",
        "  btch = next(iter(train))\n",
        "  print(f\"batch shape: {btch[0].shape}\")"
      ]
    },
    {
      "cell_type": "markdown",
      "metadata": {
        "id": "KOok4gOvaBuW"
      },
      "source": [
        "## Practice Questions"
      ]
    },
    {
      "cell_type": "markdown",
      "metadata": {
        "id": "B3Fby9XPaJjR"
      },
      "source": [
        "Produce the following tensors:  \n",
        "\n",
        "1. Create a tensor from the list `[1, 2, 3]`\n",
        "2. Create a tensor from a NumPy array of shape (50,10)\n",
        "3. Specify a data type and device option for a tensor with `[7, 8, 9]`, `[.5,0,.7]`\n",
        "4. Create a zero tensor of size (3, 4)\n",
        "5. Create a ones tensor of size (2, 2, 2) with dtype float\n",
        "6. Create a tensor of size (5, 5) with random values from a normal distribution\n",
        "7. Create a new tensor by cloning an existing tensor\n",
        "8. Create a new tensor by reshaping an existing tensor\n",
        "9. Create a new tensor by concatenating two existing tensors\n",
        "10.  Perform operations with different data types"
      ]
    },
    {
      "cell_type": "code",
      "execution_count": 35,
      "metadata": {
        "id": "ASqrBB6KeImk"
      },
      "outputs": [],
      "source": [
        "import numpy as np\n",
        "#1:\n",
        "tensor_list = torch.tensor([1,2,3])\n",
        "\n",
        "#2\n",
        "tensor_numpy = torch.from_numpy(np.random.rand(50, 10))\n",
        "\n",
        "#3\n",
        "device = torch.device('cuda' if torch.cuda.is_available() else 'cpu')\n",
        "tensor_int = torch.tensor([7, 8, 9], dtype=torch.int32, device=device)\n",
        "tensor_float = torch.tensor([0.5, 0.0, 0.7], dtype=torch.float32, device=device)\n",
        "\n",
        "#4\n",
        "zero_tensor = torch.zeros(3, 4)\n",
        "\n",
        "#5\n",
        "ones_tensor = torch.ones(2, 2, 2, dtype=torch.float32)\n",
        "\n",
        "#6\n",
        "normal_tensor = torch.randn(5, 5)\n",
        "\n",
        "#7\n",
        "cloned_tensor = normal_tensor.clone()\n",
        "\n",
        "#8\n",
        "reshaped_tensor = normal_tensor.reshape(25)\n",
        "\n",
        "#9\n",
        "concatenated_tensor = torch.cat((tensor_list, reshaped_tensor), dim=0)\n",
        "\n",
        "#10\n",
        "int_tensor = torch.tensor([1, 2, 3], dtype=torch.int32)\n",
        "float_tensor = torch.tensor([0.5, 0.5, 0.5], dtype=torch.float32)\n",
        "result_tensor = int_tensor.float() + float_tensor"
      ]
    },
    {
      "cell_type": "markdown",
      "metadata": {
        "id": "TvL6c_cEboV_"
      },
      "source": [
        "1. Inspect the  attributes of some of the tensors you created with `shape,dtype,numel`.\n",
        "2. Indexing to access specific elements: `[[1, 2, 3], [4, 5, 6]]`, get the '2' element.\n",
        "\n",
        "3. Modify modify the '5' element to '10'\n",
        "4. Apply element-wise addition to two tensors.\n",
        "5. Apply element-wise multiplication to two tensors\n",
        "6. Apply a square root to a tensor.\n",
        "7. Create a tensor with random values from a uniform distribution between 0 and 1.\n",
        "8. Create a tensor with random values from a normal distribution with mean 0 and standard deviation 1\n",
        "9. Create a tensor with random values from a discrete uniform distribution between 1 and 10.\n",
        "10. Reshape a tensor from size `(2, 3)` to `(3, 2)`\n",
        "11. Transpose a tensor\n",
        "12. Concatenate tensors along a specific dimension\n",
        "13. Stack tensors along a new dimension\n"
      ]
    },
    {
      "cell_type": "code",
      "execution_count": 25,
      "metadata": {
        "id": "d_eeWx27eLGJ",
        "colab": {
          "base_uri": "https://localhost:8080/"
        },
        "outputId": "9f213f41-398c-4032-f92d-df8491e56bac"
      },
      "outputs": [
        {
          "output_type": "stream",
          "name": "stdout",
          "text": [
            "tensor_from_list shape: torch.Size([3])\n",
            "tensor_from_list dtype: torch.int64\n",
            "tensor_from_list number of elements: 3\n",
            "zero_tensor shape: torch.Size([3, 4])\n",
            "zero_tensor dtype: torch.float32\n",
            "zero_tensor number of elements: 12\n",
            "Accessed element '2': 2\n",
            "Modified tensor:\n",
            "tensor([[ 1,  2,  3],\n",
            "        [ 4, 10,  6]])\n",
            "Element-wise addition result: tensor([5, 7, 9])\n",
            "Element-wise multiplication result: tensor([ 4, 10, 18])\n",
            "Square root of tensor_c: tensor([2., 3., 4.])\n",
            "Uniform random tensor:\n",
            "tensor([[0.0425, 0.8847, 0.7168],\n",
            "        [0.3356, 0.3505, 0.1625],\n",
            "        [0.9176, 0.7970, 0.4022]])\n",
            "Normal random tensor:\n",
            "tensor([[-0.9149, -0.5832,  0.7262],\n",
            "        [ 0.7361,  0.9617,  1.6078],\n",
            "        [ 0.4215, -2.1885, -0.9451]])\n",
            "Discrete uniform random tensor:\n",
            "tensor([[10,  3,  3],\n",
            "        [ 7,  7,  3],\n",
            "        [ 2, 10, 10]])\n",
            "Reshaped tensor:\n",
            "tensor([[1, 2],\n",
            "        [3, 4],\n",
            "        [5, 6]])\n",
            "Transposed tensor:\n",
            "tensor([[1, 4],\n",
            "        [2, 5],\n",
            "        [3, 6]])\n",
            "Concatenated along dim 0:\n",
            "tensor([[ 1,  2,  3],\n",
            "        [ 4,  5,  6],\n",
            "        [ 7,  8,  9],\n",
            "        [10, 11, 12]])\n",
            "Concatenated along dim 1:\n",
            "tensor([[ 1,  2,  3,  7,  8,  9],\n",
            "        [ 4,  5,  6, 10, 11, 12]])\n",
            "Stacked tensor along new dimension 0:\n",
            "tensor([[[ 1,  2,  3],\n",
            "         [ 4,  5,  6]],\n",
            "\n",
            "        [[ 7,  8,  9],\n",
            "         [10, 11, 12]]])\n",
            "Stacked tensor shape: torch.Size([2, 2, 3])\n"
          ]
        }
      ],
      "source": [
        "import torch\n",
        "import numpy as np\n",
        "\n",
        "#1\n",
        "print(f\"tensor_from_list shape: {tensor_list.shape}\")\n",
        "print(f\"tensor_from_list dtype: {tensor_list.dtype}\")\n",
        "print(f\"tensor_from_list number of elements: {tensor_list.numel()}\")\n",
        "print(f\"zero_tensor shape: {zero_tensor.shape}\")\n",
        "print(f\"zero_tensor dtype: {zero_tensor.dtype}\")\n",
        "print(f\"zero_tensor number of elements: {zero_tensor.numel()}\")\n",
        "\n",
        "#2\n",
        "tensor_2d = torch.tensor([[1, 2, 3], [4, 5, 6]])\n",
        "element = tensor_2d[0, 1]\n",
        "print(f\"Accessed element '2': {element}\")\n",
        "\n",
        "#3\n",
        "tensor_2d[1, 1] = 10\n",
        "print(f\"Modified tensor:\\n{tensor_2d}\")\n",
        "\n",
        "#4\n",
        "tensor_a = torch.tensor([1, 2, 3])\n",
        "tensor_b = torch.tensor([4, 5, 6])\n",
        "added_tensor = tensor_a + tensor_b\n",
        "print(f\"Element-wise addition result: {added_tensor}\")\n",
        "\n",
        "#5\n",
        "multiplied_tensor = tensor_a * tensor_b\n",
        "print(f\"Element-wise multiplication result: {multiplied_tensor}\")\n",
        "\n",
        "#6\n",
        "tensor_c = torch.tensor([4.0, 9.0, 16.0])\n",
        "sqrt_tensor = torch.sqrt(tensor_c)\n",
        "print(f\"Square root of tensor_c: {sqrt_tensor}\")\n",
        "\n",
        "#7\n",
        "uniform_tensor = torch.rand(3, 3)\n",
        "print(f\"Uniform random tensor:\\n{uniform_tensor}\")\n",
        "\n",
        "#8\n",
        "normal_tensor = torch.randn(3, 3)\n",
        "print(f\"Normal random tensor:\\n{normal_tensor}\")\n",
        "\n",
        "#9\n",
        "discrete_uniform_tensor = torch.randint(1, 11, (3, 3))\n",
        "print(f\"Discrete uniform random tensor:\\n{discrete_uniform_tensor}\")\n",
        "\n",
        "#10\n",
        "tensor_to_reshape = torch.tensor([[1, 2, 3], [4, 5, 6]])\n",
        "reshaped_tensor = tensor_to_reshape.reshape(3, 2)\n",
        "print(f\"Reshaped tensor:\\n{reshaped_tensor}\")\n",
        "\n",
        "#11\n",
        "transposed_tensor = tensor_to_reshape.T\n",
        "print(f\"Transposed tensor:\\n{transposed_tensor}\")\n",
        "\n",
        "#12\n",
        "tensor_d = torch.tensor([[1, 2, 3], [4, 5, 6]])\n",
        "tensor_e = torch.tensor([[7, 8, 9], [10, 11, 12]])\n",
        "concatenated_tensor_dim0 = torch.cat((tensor_d, tensor_e), dim=0)\n",
        "print(f\"Concatenated along dim 0:\\n{concatenated_tensor_dim0}\")\n",
        "\n",
        "concatenated_tensor_dim1 = torch.cat((tensor_d, tensor_e), dim=1)\n",
        "print(f\"Concatenated along dim 1:\\n{concatenated_tensor_dim1}\")\n",
        "\n",
        "#13\n",
        "stacked_tensor = torch.stack((tensor_d, tensor_e), dim=0)\n",
        "print(f\"Stacked tensor along new dimension 0:\\n{stacked_tensor}\")\n",
        "print(f\"Stacked tensor shape: {stacked_tensor.shape}\")\n"
      ]
    },
    {
      "cell_type": "markdown",
      "metadata": {
        "id": "q5Ag4aLvd186"
      },
      "source": [
        "1. Sum of all elements in a tensor.\n",
        "2. Mean along a specific dimension\n",
        "3. Find the minimum and maximum values in a tensor\n",
        "4. Find the indices of minimum and maximum values in a tensor\n"
      ]
    },
    {
      "cell_type": "code",
      "execution_count": 26,
      "metadata": {
        "id": "YS_zcuzPeL2y",
        "colab": {
          "base_uri": "https://localhost:8080/"
        },
        "outputId": "15b27501-8a00-43a4-c934-e71cdc61fc7f"
      },
      "outputs": [
        {
          "output_type": "stream",
          "name": "stdout",
          "text": [
            "Sum of all elements: 21\n",
            "Mean along dimension 0: tensor([2.5000, 3.5000, 4.5000])\n",
            "Mean along dimension 1: tensor([2., 5.])\n",
            "Minimum value in tensor: 1\n",
            "Maximum value in tensor: 8\n",
            "Minimum values in each row: tensor([1, 2])\n",
            "Indices of minimum values in each row: tensor([1, 0])\n",
            "Maximum values in each row: tensor([4, 8])\n",
            "Indices of maximum values in each row: tensor([2, 1])\n"
          ]
        }
      ],
      "source": [
        "import torch\n",
        "\n",
        "#1\n",
        "tensor_sum_example = torch.tensor([[1, 2, 3], [4, 5, 6]])\n",
        "total_sum = torch.sum(tensor_sum_example)\n",
        "print(f\"Sum of all elements: {total_sum}\")\n",
        "\n",
        "#2\n",
        "tensor_mean_example = torch.tensor([[1.0, 2.0, 3.0], [4.0, 5.0, 6.0]])\n",
        "mean_dim0 = torch.mean(tensor_mean_example, dim=0)\n",
        "mean_dim1 = torch.mean(tensor_mean_example, dim=1)\n",
        "print(f\"Mean along dimension 0: {mean_dim0}\")\n",
        "print(f\"Mean along dimension 1: {mean_dim1}\")\n",
        "\n",
        "#3\n",
        "tensor_min_max_example = torch.tensor([[3, 1, 4], [2, 8, 5]])\n",
        "min_value = torch.min(tensor_min_max_example)\n",
        "max_value = torch.max(tensor_min_max_example)\n",
        "print(f\"Minimum value in tensor: {min_value}\")\n",
        "print(f\"Maximum value in tensor: {max_value}\")\n",
        "\n",
        "#4\n",
        "min_value_each_row, min_indices = torch.min(tensor_min_max_example, dim=1)\n",
        "max_value_each_row, max_indices = torch.max(tensor_min_max_example, dim=1)\n",
        "print(f\"Minimum values in each row: {min_value_each_row}\")\n",
        "print(f\"Indices of minimum values in each row: {min_indices}\")\n",
        "print(f\"Maximum values in each row: {max_value_each_row}\")\n",
        "print(f\"Indices of maximum values in each row: {max_indices}\")\n"
      ]
    },
    {
      "cell_type": "markdown",
      "metadata": {
        "id": "ZUhF40qoc9lh"
      },
      "source": [
        "Broadcasting:"
      ]
    },
    {
      "cell_type": "code",
      "execution_count": 20,
      "metadata": {
        "colab": {
          "base_uri": "https://localhost:8080/"
        },
        "id": "WZ3jXo9F7YyB",
        "outputId": "fc75af4e-9e11-4ab6-cda3-4bf79c6b9c8d"
      },
      "outputs": [
        {
          "output_type": "stream",
          "name": "stdout",
          "text": [
            "Broadcasting with scalars:\n",
            "tensor([6, 7, 8])\n",
            "Broadcasting with different shapes:\n",
            "tensor([[11, 22, 33],\n",
            "        [14, 25, 36]])\n"
          ]
        }
      ],
      "source": [
        "\n",
        "# Broadcasting with scalars\n",
        "tensor_a = torch.tensor([1, 2, 3])\n",
        "scalar_b = 5\n",
        "result_broadcast_scalar = tensor_a + scalar_b\n",
        "print(\"Broadcasting with scalars:\")\n",
        "print(result_broadcast_scalar)  # Output: tensor([6, 7, 8])\n",
        "\n",
        "# Broadcasting with different shapes\n",
        "tensor_c = torch.tensor([[1, 2, 3], [4, 5, 6]])\n",
        "tensor_d = torch.tensor([10, 20, 30])\n",
        "result_broadcast_shape = tensor_c + tensor_d\n",
        "print(\"Broadcasting with different shapes:\")\n",
        "print(result_broadcast_shape)"
      ]
    },
    {
      "cell_type": "code",
      "execution_count": 21,
      "metadata": {
        "colab": {
          "base_uri": "https://localhost:8080/"
        },
        "id": "CTTx-zG3dFzd",
        "outputId": "5fd08740-aad0-4d75-b453-608c8d07881a"
      },
      "outputs": [
        {
          "output_type": "stream",
          "name": "stdout",
          "text": [
            "Broadcasting with multidimensional tensors:\n",
            "tensor([[11, 22, 33],\n",
            "        [14, 25, 36]])\n",
            "RuntimeError: The size of tensor a (3) must match the size of tensor b (2) at non-singleton dimension 1\n"
          ]
        }
      ],
      "source": [
        "# Broadcasting with multidimensional tensors\n",
        "tensor_a = torch.tensor([[1, 2, 3], [4, 5, 6]])\n",
        "tensor_b = torch.tensor([10, 20, 30])\n",
        "result_broadcast = tensor_a + tensor_b\n",
        "print(\"Broadcasting with multidimensional tensors:\")\n",
        "print(result_broadcast)\n",
        "\n",
        "# Common broadcasting pitfalls\n",
        "tensor_c = torch.tensor([[1, 2, 3], [4, 5, 6]])\n",
        "tensor_d = torch.tensor([10, 20])\n",
        "# The following line will raise a RuntimeError\n",
        "try:\n",
        "    result_pitfall = tensor_c + tensor_d\n",
        "except RuntimeError as e:\n",
        "    print(\"RuntimeError:\", e)"
      ]
    },
    {
      "cell_type": "markdown",
      "metadata": {
        "id": "d8XnR20UdL9x"
      },
      "source": [
        "Device specification"
      ]
    },
    {
      "cell_type": "code",
      "execution_count": 22,
      "metadata": {
        "colab": {
          "base_uri": "https://localhost:8080/"
        },
        "id": "UmOPlcDndLei",
        "outputId": "89e85f7b-8929-4dbe-ab10-3c7db143541f"
      },
      "outputs": [
        {
          "output_type": "stream",
          "name": "stdout",
          "text": [
            "Is GPU available? False\n",
            "Tensor on GPU: tensor([1, 2, 3])\n"
          ]
        }
      ],
      "source": [
        "# Code examples for device configuration and availability\n",
        "\n",
        "# Check if GPU is available\n",
        "is_gpu_available = torch.cuda.is_available()\n",
        "print(\"Is GPU available?\", is_gpu_available)\n",
        "\n",
        "# Specify device for tensor operations\n",
        "device = torch.device('cuda' if is_gpu_available else 'cpu')\n",
        "tensor_gpu = torch.tensor([1, 2, 3], device=device)\n",
        "print(\"Tensor on GPU:\", tensor_gpu)\n"
      ]
    },
    {
      "cell_type": "markdown",
      "metadata": {
        "id": "aTb9_VWsgCkv"
      },
      "source": [
        "Dataloader practice:"
      ]
    },
    {
      "cell_type": "markdown",
      "metadata": {
        "id": "A-XSmZ7Tffq2"
      },
      "source": [
        "Using the Fashion MNIST dataloader object, iterate over the batches, and calculate an interesting statistic. Make sure the statistic represent the entire data, not just a single batch. Hint- find a way to \"update\" the statistic along the batches."
      ]
    },
    {
      "cell_type": "code",
      "execution_count": 28,
      "metadata": {
        "id": "ED4PArw7e43C",
        "colab": {
          "base_uri": "https://localhost:8080/"
        },
        "outputId": "9a5f8211-1691-45be-b80b-ea9fae8420f2"
      },
      "outputs": [
        {
          "output_type": "stream",
          "name": "stdout",
          "text": [
            "Mean pixel value: 0.2860\n",
            "Standard deviation of pixel values: 0.3530\n"
          ]
        }
      ],
      "source": [
        "from torchvision import datasets, transforms\n",
        "from torch.utils.data import DataLoader\n",
        "\n",
        "transform = transforms.ToTensor()\n",
        "train_dataset = datasets.FashionMNIST(\n",
        "    root='data',\n",
        "    train=True,\n",
        "    download=True,\n",
        "    transform=transform\n",
        ")\n",
        "\n",
        "batch_size = 64\n",
        "train_loader = DataLoader(\n",
        "    train_dataset,\n",
        "    batch_size=batch_size,\n",
        "    shuffle=False\n",
        ")\n",
        "\n",
        "sum_pixels = 0.0\n",
        "sum_squared_pixels = 0.0\n",
        "num_pixels = 0\n",
        "\n",
        "for images, labels in train_loader:\n",
        "    images = images.view(images.size(0), -1)\n",
        "    # Update the sum and squared sum of pixels\n",
        "    sum_pixels += images.sum()\n",
        "    sum_squared_pixels += (images ** 2).sum()\n",
        "    # Update the total number of pixels processed\n",
        "    num_pixels += images.numel()\n",
        "\n",
        "mean = sum_pixels / num_pixels\n",
        "std = torch.sqrt(sum_squared_pixels / num_pixels - mean ** 2)\n",
        "\n",
        "print(f'Mean pixel value: {mean.item():.4f}')\n",
        "print(f'Standard deviation of pixel values: {std.item():.4f}')\n"
      ]
    },
    {
      "cell_type": "markdown",
      "metadata": {
        "id": "NrhHnCUOXeTY"
      },
      "source": [
        "## How to export an `HTML` file of your `ipynb`\n"
      ]
    },
    {
      "cell_type": "markdown",
      "metadata": {
        "id": "-yvoSJjmXqah"
      },
      "source": [
        "1. Save your notebook and make sure all the cells have the expected output.\n",
        "2. Download your notebook to your local machine.   `File-->Download-->Download ipynb`\n",
        "3.  Reupload it so Colab can see it :  Click on the Files icon on the far left bar--> you should see your current kernel folder --> click `upload to session storage` --> upload your file.\n",
        "4. Execute the following: `!jupyter nbconvert --to html /content/NOTEBOOKFILE.ipynb`\n",
        "5. You should see the html file produced in your kernel's current folder. You can download it locally.\n",
        "[link text](https://)"
      ]
    },
    {
      "cell_type": "markdown",
      "metadata": {
        "id": "ZKpF6F5E741a"
      },
      "source": [
        " END OF PyTorch BASICS"
      ]
    }
  ],
  "metadata": {
    "colab": {
      "provenance": [],
      "toc_visible": true
    },
    "kernelspec": {
      "display_name": "Python 3",
      "name": "python3"
    },
    "language_info": {
      "name": "python"
    }
  },
  "nbformat": 4,
  "nbformat_minor": 0
}